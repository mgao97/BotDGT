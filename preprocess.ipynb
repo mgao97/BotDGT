{
 "cells": [
  {
   "cell_type": "code",
   "execution_count": 1,
   "metadata": {},
   "outputs": [
    {
     "data": {
      "text/plain": [
       "(torch.Size([2, 227979]), torch.Size([227979]))"
      ]
     },
     "execution_count": 1,
     "metadata": {},
     "output_type": "execute_result"
    }
   ],
   "source": [
    "import torch\n",
    "\n",
    "edge_index = torch.load('edge_index.pt')\n",
    "edge_type = torch.load('edge_type.pt')\n",
    "\n",
    "edge_index.shape, edge_type.shape"
   ]
  },
  {
   "cell_type": "code",
   "execution_count": 2,
   "metadata": {},
   "outputs": [
    {
     "data": {
      "text/plain": [
       "torch.Size([229580, 5])"
      ]
     },
     "execution_count": 2,
     "metadata": {},
     "output_type": "execute_result"
    }
   ],
   "source": [
    "num_f = torch.load('num_properties_tensor.pt')\n",
    "num_f.shape"
   ]
  },
  {
   "cell_type": "code",
   "execution_count": 3,
   "metadata": {},
   "outputs": [
    {
     "data": {
      "text/plain": [
       "torch.Size([11826])"
      ]
     },
     "execution_count": 3,
     "metadata": {},
     "output_type": "execute_result"
    }
   ],
   "source": [
    "label = torch.load('label.pt')\n",
    "label.shape"
   ]
  },
  {
   "cell_type": "code",
   "execution_count": 4,
   "metadata": {},
   "outputs": [
    {
     "data": {
      "text/plain": [
       "(torch.Size([8278]), torch.Size([2365]), torch.Size([1183]))"
      ]
     },
     "execution_count": 4,
     "metadata": {},
     "output_type": "execute_result"
    }
   ],
   "source": [
    "train_idx, val_idx, test_idx = torch.load('train_idx.pt'),torch.load('val_idx.pt'),torch.load('test_idx.pt')\n",
    "train_idx.shape, val_idx.shape, test_idx.shape"
   ]
  },
  {
   "cell_type": "code",
   "execution_count": 7,
   "metadata": {},
   "outputs": [
    {
     "data": {
      "text/plain": [
       "tensor([   0,    1,    2,  ..., 8275, 8276, 8277])"
      ]
     },
     "execution_count": 7,
     "metadata": {},
     "output_type": "execute_result"
    }
   ],
   "source": [
    "train_idx"
   ]
  },
  {
   "cell_type": "code",
   "execution_count": 9,
   "metadata": {},
   "outputs": [
    {
     "data": {
      "text/plain": [
       "tensor([ 8278,  8279,  8280,  ..., 10640, 10641, 10642])"
      ]
     },
     "execution_count": 9,
     "metadata": {},
     "output_type": "execute_result"
    }
   ],
   "source": [
    "val_idx"
   ]
  },
  {
   "cell_type": "code",
   "execution_count": 8,
   "metadata": {},
   "outputs": [
    {
     "data": {
      "text/plain": [
       "tensor([10643, 10644, 10645,  ..., 11823, 11824, 11825])"
      ]
     },
     "execution_count": 8,
     "metadata": {},
     "output_type": "execute_result"
    }
   ],
   "source": [
    "test_idx"
   ]
  },
  {
   "cell_type": "code",
   "execution_count": 6,
   "metadata": {},
   "outputs": [
    {
     "name": "stdout",
     "output_type": "stream",
     "text": [
      "/home/ad/mgao/BotDGT\n"
     ]
    }
   ],
   "source": [
    "import os\n",
    "import sys\n",
    "\n",
    "# 获取当前工作目录\n",
    "current_dir = os.getcwd()\n",
    "\n",
    "# 通过向上导航到项目根目录\n",
    "project_root = os.path.abspath(current_dir)\n",
    "print(project_root)\n",
    "# 将项目根目录添加到系统路径\n",
    "sys.path.append(project_root)\n",
    "sys.path.append(project_root+\"/slate\")"
   ]
  },
  {
   "cell_type": "code",
   "execution_count": 3,
   "metadata": {},
   "outputs": [
    {
     "name": "stdout",
     "output_type": "stream",
     "text": [
      "/home/ad/mgao/BotDGT\n"
     ]
    }
   ],
   "source": [
    "# preprocess.ipynb\n",
    "import os\n",
    "import sys\n",
    "from torch_geometric.data import Data\n",
    "import torch\n",
    "from slate.slate_model import SLATE\n",
    "from slate.slate_layer import *\n",
    "from slate.lib.encoding import *\n",
    "\n",
    "# from importlib import reload\n",
    "# reload(sys.modules['slate.slate_model'])\n",
    "\n",
    "# 获取当前工作目录\n",
    "current_dir = os.getcwd()\n",
    "\n",
    "# 假设Notebook文件位于 'BotDGT' 目录中\n",
    "# 通过向上导航到项目根目录\n",
    "project_root = os.path.abspath(current_dir)\n",
    "print(project_root)\n",
    "\n",
    "# 将项目根目录添加到系统路径\n",
    "sys.path.append(project_root)\n",
    "sys.path.append(project_root + \"/slate\")\n",
    "\n"
   ]
  },
  {
   "cell_type": "code",
   "execution_count": 6,
   "metadata": {},
   "outputs": [],
   "source": [
    "import networkx as nx\n",
    "import random\n",
    "import pickle\n",
    "import warnings\n",
    "\n",
    "warnings.filterwarnings(\"ignore\")\n",
    "path = '/home/ad/mgao/BotDGT/New/SLATE/notebooks/'\n",
    "if os.path.exists(path+\"f_pickle/toy_dataset.gpickle\"):\n",
    "    with open(path+\"f_pickle/toy_dataset.gpickle\", \"rb\") as f:\n",
    "        sup_G = pickle.load(f)\n",
    "    # G1 = nx.Graph()\n",
    "    # G2 = nx.Graph()\n",
    "    # G3 = nx.Graph()\n",
    "\n",
    "    # for e in sup_G.edges:\n",
    "    #     u, v = e\n",
    "    #     if u < 10:\n",
    "    #         G1.add_edge(u, v)\n",
    "    #     elif u < 20:\n",
    "    #         G2.add_edge(u - 10, v - 10)\n",
    "    #     else:\n",
    "    #         G3.add_edge(u - 20, v - 20)\n",
    "            "
   ]
  },
  {
   "cell_type": "code",
   "execution_count": 8,
   "metadata": {},
   "outputs": [
    {
     "data": {
      "text/plain": [
       "NodeView((0, 1, 2, 3, 4, 5, 6, 7, 8, 9, 10, 11, 12, 13, 14, 15, 16, 17, 18, 19, 20, 21, 22, 23, 24, 25, 26, 27, 28, 29))"
      ]
     },
     "execution_count": 8,
     "metadata": {},
     "output_type": "execute_result"
    }
   ],
   "source": [
    "sup_G.nodes"
   ]
  },
  {
   "cell_type": "code",
   "execution_count": 9,
   "metadata": {},
   "outputs": [
    {
     "data": {
      "text/plain": [
       "EdgeView([(0, 1), (0, 5), (0, 8), (1, 6), (2, 3), (2, 4), (2, 9), (5, 9), (6, 9), (10, 11), (10, 14), (10, 15), (10, 16), (10, 18), (10, 19), (11, 12), (11, 13), (11, 17), (11, 18), (11, 19), (12, 13), (12, 15), (13, 15), (14, 18), (15, 17), (16, 18), (17, 18), (20, 25), (20, 29), (21, 25), (22, 28), (24, 27), (24, 28), (27, 28)])"
      ]
     },
     "execution_count": 9,
     "metadata": {},
     "output_type": "execute_result"
    }
   ],
   "source": [
    "sup_G.edges"
   ]
  },
  {
   "cell_type": "code",
   "execution_count": 4,
   "metadata": {},
   "outputs": [
    {
     "data": {
      "text/plain": [
       "[Data(edge_index=[2, 1249], edge_type=[1249], exist_nodes=[229580], clustering_coefficient=[229580, 1], bidirectional_links_ratio=[229580, 1], n_id=[229580]),\n",
       " Data(edge_index=[2, 14946], edge_type=[14946], exist_nodes=[229580], clustering_coefficient=[229580, 1], bidirectional_links_ratio=[229580, 1], n_id=[229580]),\n",
       " Data(edge_index=[2, 27264], edge_type=[27264], exist_nodes=[229580], clustering_coefficient=[229580, 1], bidirectional_links_ratio=[229580, 1], n_id=[229580]),\n",
       " Data(edge_index=[2, 45331], edge_type=[45331], exist_nodes=[229580], clustering_coefficient=[229580, 1], bidirectional_links_ratio=[229580, 1], n_id=[229580]),\n",
       " Data(edge_index=[2, 63063], edge_type=[63063], exist_nodes=[229580], clustering_coefficient=[229580, 1], bidirectional_links_ratio=[229580, 1], n_id=[229580]),\n",
       " Data(edge_index=[2, 78992], edge_type=[78992], exist_nodes=[229580], clustering_coefficient=[229580, 1], bidirectional_links_ratio=[229580, 1], n_id=[229580]),\n",
       " Data(edge_index=[2, 95374], edge_type=[95374], exist_nodes=[229580], clustering_coefficient=[229580, 1], bidirectional_links_ratio=[229580, 1], n_id=[229580]),\n",
       " Data(edge_index=[2, 111200], edge_type=[111200], exist_nodes=[229580], clustering_coefficient=[229580, 1], bidirectional_links_ratio=[229580, 1], n_id=[229580]),\n",
       " Data(edge_index=[2, 128366], edge_type=[128366], exist_nodes=[229580], clustering_coefficient=[229580, 1], bidirectional_links_ratio=[229580, 1], n_id=[229580]),\n",
       " Data(edge_index=[2, 146415], edge_type=[146415], exist_nodes=[229580], clustering_coefficient=[229580, 1], bidirectional_links_ratio=[229580, 1], n_id=[229580]),\n",
       " Data(edge_index=[2, 165112], edge_type=[165112], exist_nodes=[229580], clustering_coefficient=[229580, 1], bidirectional_links_ratio=[229580, 1], n_id=[229580]),\n",
       " Data(edge_index=[2, 188477], edge_type=[188477], exist_nodes=[229580], clustering_coefficient=[229580, 1], bidirectional_links_ratio=[229580, 1], n_id=[229580]),\n",
       " Data(edge_index=[2, 227979], edge_type=[227979], exist_nodes=[229580], clustering_coefficient=[229580, 1], bidirectional_links_ratio=[229580, 1], n_id=[229580])]"
      ]
     },
     "execution_count": 4,
     "metadata": {},
     "output_type": "execute_result"
    }
   ],
   "source": [
    "import torch\n",
    "sub_G = torch.load('./New/SLATE/slate/data/Twi20/annual_graphs_2008_2020.pt')\n",
    "sub_G"
   ]
  },
  {
   "cell_type": "code",
   "execution_count": 5,
   "metadata": {},
   "outputs": [
    {
     "data": {
      "text/plain": [
       "13"
      ]
     },
     "execution_count": 5,
     "metadata": {},
     "output_type": "execute_result"
    }
   ],
   "source": [
    "len(sub_G)"
   ]
  },
  {
   "cell_type": "code",
   "execution_count": 6,
   "metadata": {},
   "outputs": [
    {
     "data": {
      "text/plain": [
       "13"
      ]
     },
     "execution_count": 6,
     "metadata": {},
     "output_type": "execute_result"
    }
   ],
   "source": [
    "import networkx as nx\n",
    "\n",
    "def create_graphs_from_sub_G(sub_G):\n",
    "    graphs = []\n",
    "    for data in sub_G:\n",
    "        G = nx.Graph()\n",
    "        \n",
    "        # 将 tensor 转换为 numpy 数组，然后再转换为列表\n",
    "        edge_index = data.edge_index.numpy().T  # 假设 edge_index 是一个 2xN 的 tensor\n",
    "        edge_type = data.edge_type.numpy().tolist()\n",
    "        n_id = data.n_id.numpy().tolist()\n",
    "        \n",
    "        # 添加节点\n",
    "        G.add_nodes_from(n_id)\n",
    "        \n",
    "        # 添加边及其类型\n",
    "        for i, (u, v) in enumerate(edge_index):\n",
    "            G.add_edge(u, v, type=edge_type[i])\n",
    "        \n",
    "        graphs.append(G)\n",
    "    return graphs\n",
    "\n",
    "graphs = create_graphs_from_sub_G(sub_G)\n",
    "len(graphs)"
   ]
  },
  {
   "cell_type": "code",
   "execution_count": 7,
   "metadata": {},
   "outputs": [
    {
     "data": {
      "text/plain": [
       "(229580, 229580, 229580)"
      ]
     },
     "execution_count": 7,
     "metadata": {},
     "output_type": "execute_result"
    }
   ],
   "source": [
    "G1, G2, G3 = graphs[0], graphs[1], graphs[2]\n",
    "len(G1.nodes),len(G2.nodes),len(G3.nodes)"
   ]
  },
  {
   "cell_type": "code",
   "execution_count": 8,
   "metadata": {},
   "outputs": [
    {
     "data": {
      "text/plain": [
       "EdgeView([(0, 3118), (2, 15007), (3, 8332), (14, 10973), (21, 3553), (29, 9176), (29, 102620), (33, 3488), (33, 4223), (101, 13321), (101, 16035), (103, 3468), (103, 5943), (103, 5992), (103, 10528), (103, 34095), (124, 15564), (147, 9670), (157, 16515), (157, 14767), (165, 13948), (165, 16193), (165, 12077), (165, 14323), (165, 312), (166, 210), (182, 12482), (182, 13341), (182, 12369), (182, 12185), (183, 12007), (183, 8286), (183, 14681), (210, 16268), (224, 5383), (229, 14837), (229, 14477), (229, 12743), (229, 2240), (239, 1960), (241, 15195), (241, 14586), (243, 10701), (287, 12343), (287, 13171), (303, 3596), (316, 3737), (316, 5943), (339, 19457), (339, 20643), (339, 20471), (339, 19784), (339, 102620), (344, 19800), (359, 376), (359, 11503), (376, 20936), (376, 20773), (376, 18940), (376, 20313), (376, 21053), (376, 20901), (376, 17838), (376, 20310), (379, 2109), (379, 4414), (381, 10714), (381, 20746), (381, 8636), (389, 19623), (389, 17316), (389, 17983), (389, 19364), (391, 16834), (391, 18505), (391, 18215), (398, 1424), (407, 18108), (407, 20740), (423, 3620), (425, 16994), (425, 17335), (425, 19057), (425, 17879), (427, 4239), (427, 10831), (427, 113930), (443, 9643), (455, 18637), (455, 17646), (455, 19944), (455, 20295), (455, 20498), (455, 17263), (460, 17950), (460, 17292), (460, 18019), (460, 21326), (460, 18640), (466, 10963), (474, 8318), (474, 21586), (516, 17618), (516, 20875), (517, 20599), (517, 19051), (517, 19601), (522, 20580), (539, 20326), (539, 17057), (547, 9068), (580, 26168), (580, 23340), (580, 25487), (592, 793), (592, 11194), (636, 2959), (796, 9968), (809, 79543), (824, 9261), (962, 30314), (975, 11263), (1032, 30924), (1052, 36335), (1057, 33164), (1067, 33461), (1067, 35714), (1067, 32964), (1067, 35698), (1067, 34886), (1067, 35730), (1067, 34923), (1111, 35349), (1119, 1140), (1120, 1162), (1124, 33828), (1124, 34789), (1124, 34568), (1124, 34085), (1124, 35394), (1129, 35980), (1130, 35733), (1130, 32692), (1133, 32150), (1133, 35406), (1133, 35404), (1133, 32128), (1133, 36071), (1136, 36375), (1136, 34450), (1138, 15376), (1138, 33082), (1138, 34731), (1140, 35518), (1148, 8623), (1157, 35933), (1157, 35812), (1162, 33373), (1162, 35332), (1162, 32566), (1162, 8603), (1165, 31862), (1165, 32555), (1165, 33885), (1191, 34792), (1191, 35736), (1196, 79543), (1205, 36389), (1205, 35902), (1213, 3163), (1221, 33116), (1221, 33102), (1221, 1235), (1221, 34674), (1235, 34095), (1265, 3885), (1312, 39548), (1312, 38355), (1312, 38957), (1312, 38215), (1312, 10831), (1314, 38459), (1314, 19865), (1314, 27300), (1341, 8636), (1355, 40302), (1355, 38608), (1355, 10829), (1395, 7782), (1410, 38980), (1410, 36904), (1410, 37557), (1415, 40140), (1415, 38903), (1415, 38723), (1415, 39180), (1415, 10831), (1424, 38383), (1424, 10829), (1466, 45174), (1553, 46040), (1580, 2240), (1588, 45932), (1588, 3113), (1612, 42077), (1612, 38470), (1612, 41863), (1618, 43183), (1635, 43364), (1635, 41661), (1694, 47653), (1694, 49040), (1694, 48579), (1694, 49790), (1786, 50004), (1786, 48059), (1956, 54342), (1956, 55713), (1956, 54449), (1956, 52367), (1960, 36334), (1982, 54579), (1982, 52234), (1982, 55388), (1982, 52854), (1982, 51551), (2000, 55042), (2000, 56278), (2000, 55488), (2012, 53049), (2012, 53922), (2013, 8848), (2037, 53158), (2059, 55339), (2109, 11260), (2143, 36114), (2143, 58303), (2143, 61589), (2143, 53376), (2145, 57477), (2152, 57199), (2152, 62194), (2152, 34568), (2152, 60677), (2152, 60589), (2152, 60893), (2153, 57376), (2153, 60748), (2153, 60274), (2153, 59800), (2170, 38203), (2183, 59853), (2183, 61387), (2186, 59016), (2186, 60543), (2186, 60544), (2186, 61141), (2186, 58085), (2186, 62309), (2186, 59332), (2191, 8895), (2193, 59765), (2196, 9968), (2198, 57121), (2198, 60248), (2198, 61978), (2198, 61531), (2198, 60247), (2240, 57210), (2240, 58627), (2240, 56338), (2240, 59196), (2245, 59884), (2245, 59666), (2295, 65866), (2305, 63053), (2305, 63219), (2305, 64983), (2305, 64336), (2331, 64022), (2358, 5407), (2373, 63273), (2373, 67224), (2380, 11388), (2391, 130887), (2399, 62824), (2399, 66246), (2399, 17103), (2399, 32829), (2404, 64161), (2404, 27300), (2404, 67325), (2429, 65301), (2431, 65472), (2431, 68072), (2480, 65516), (2480, 62768), (2480, 66304), (2480, 67440), (2480, 66844), (2480, 63844), (2480, 4036), (2526, 34277), (2526, 10847), (2581, 73298), (2581, 69991), (2690, 78479), (2690, 32428), (2725, 76833), (2725, 33655), (2725, 10712), (2726, 77728), (2726, 75049), (2729, 13531), (2729, 75332), (2729, 77902), (2763, 77462), (2763, 76509), (2784, 76347), (2822, 76829), (2822, 78255), (2822, 78607), (2822, 74731), (2822, 75662), (2822, 76524), (2822, 76292), (2822, 78303), (2822, 11058), (2852, 76012), (2852, 75435), (2860, 14392), (2872, 77234), (2872, 75823), (2959, 57275), (2959, 84398), (2959, 80826), (2990, 83331), (3007, 82902), (3019, 81657), (3019, 81941), (3019, 84708), (3113, 25348), (3113, 86298), (3113, 87813), (3154, 86119), (3154, 85610), (3156, 85825), (3156, 88539), (3163, 87507), (3163, 86564), (3163, 85896), (3306, 93483), (3306, 89646), (3306, 91866), (3306, 92324), (3306, 93224), (3448, 97037), (3448, 96623), (3448, 99906), (3448, 95737), (3450, 97249), (3450, 99593), (3450, 3646), (3464, 99800), (3464, 97122), (3464, 94213), (3464, 98384), (3464, 95148), (3464, 3584), (3468, 95273), (3468, 8402), (3468, 3488), (3471, 99191), (3471, 99919), (3471, 95503), (3471, 99598), (3480, 3497), (3480, 97005), (3480, 96590), (3480, 98261), (3480, 97117), (3480, 11189), (3480, 96755), (3480, 95175), (3480, 3646), (3484, 8382), (3484, 99246), (3484, 10712), (3484, 8318), (3484, 3634), (3486, 95946), (3486, 95221), (3486, 94140), (3488, 11169), (3488, 11164), (3488, 3617), (3488, 95106), (3497, 95058), (3531, 3584), (3539, 96132), (3539, 96029), (3544, 95916), (3544, 97732), (3546, 98360), (3546, 94565), (3546, 99603), (3546, 11194), (3554, 93807), (3554, 94279), (3554, 96730), (3561, 95216), (3561, 98236), (3561, 99932), (3561, 100020), (3561, 95939), (3561, 96438), (3563, 3646), (3577, 3596), (3584, 95106), (3585, 3625), (3585, 95106), (3592, 99912), (3592, 95684), (3595, 95256), (3595, 94491), (3595, 96194), (3595, 99692), (3596, 32837), (3596, 19165), (3604, 97399), (3617, 96175), (3617, 99996), (3617, 96733), (3617, 93868), (3617, 20848), (3617, 97063), (3617, 98795), (3620, 97769), (3625, 98942), (3625, 99983), (3625, 96995), (3625, 59759), (3625, 94526), (3634, 11175), (3634, 95106), (3646, 98720), (3646, 94002), (3646, 9273), (3646, 96855), (3646, 95106), (3650, 96917), (3691, 104394), (3691, 102698), (3691, 101589), (3703, 104415), (3703, 101449), (3703, 104026), (3703, 103669), (3703, 102872), (3703, 11204), (3704, 104087), (3704, 101374), (3704, 104431), (3724, 102805), (3724, 103394), (3737, 100819), (3737, 100994), (3737, 37141), (3756, 104047), (3759, 104731), (3759, 101650), (3759, 105325), (3759, 51935), (3759, 58087), (3759, 105608), (3759, 101661), (3762, 101107), (3762, 101930), (3774, 45108), (3794, 100144), (3794, 11219), (3794, 103994), (3794, 101418), (3794, 103369), (3794, 104179), (3794, 64498), (3794, 101260), (3813, 102366), (3813, 105443), (3813, 102593), (3813, 103319), (3813, 100260), (3813, 103006), (3836, 102613), (3841, 102507), (3841, 105194), (3841, 101902), (3841, 38465), (3841, 100922), (3852, 8336), (3852, 100060), (3852, 103086), (3852, 100474), (3852, 104693), (3860, 6155), (3870, 101248), (4036, 8385), (4065, 113689), (4065, 111962), (4065, 113660), (4065, 113751), (4065, 115823), (4065, 114108), (4065, 112790), (4065, 116878), (4065, 11258), (4086, 114417), (4086, 113269), (4086, 114492), (4086, 114987), (4086, 11258), (4091, 113533), (4091, 114457), (4091, 112187), (4091, 116665), (4091, 114272), (4091, 116100), (4091, 113265), (4091, 114597), (4112, 117354), (4112, 112665), (4112, 114008), (4112, 113737), (4112, 117119), (4112, 114023), (4112, 116912), (4112, 111948), (4112, 112667), (4112, 117187), (4112, 11258), (4137, 10712), (4137, 112555), (4137, 8318), (4140, 112730), (4140, 114742), (4140, 116696), (4140, 114287), (4140, 115651), (4140, 113725), (4158, 4197), (4166, 116259), (4166, 93882), (4166, 116191), (4181, 116708), (4181, 60098), (4181, 117250), (4181, 114781), (4181, 112552), (4195, 114854), (4195, 11258), (4197, 11258), (4197, 112552), (4199, 117337), (4199, 15633), (4199, 112744), (4199, 116649), (4199, 11258), (4223, 4253), (4223, 116213), (4230, 113940), (4236, 18108), (4239, 79001), (4239, 111743), (4239, 112992), (4239, 113245), (4239, 112552), (4239, 117059), (4239, 116584), (4241, 113138), (4241, 116608), (4243, 54334), (4243, 115462), (4243, 115604), (4243, 112552), (4253, 117369), (4265, 67224), (4269, 116974), (4269, 115165), (4269, 115247), (4269, 116828), (4269, 58075), (4269, 111853), (4269, 116372), (4304, 119101), (4304, 119365), (4304, 120811), (4318, 8402), (4318, 120370), (4318, 121359), (4386, 118269), (4414, 119160), (4414, 121544), (4414, 118307), (4526, 123943), (4526, 129240), (4526, 35002), (4526, 124469), (4526, 125020), (4526, 4724), (4532, 124346), (4532, 129680), (4532, 123064), (4532, 124661), (4567, 85385), (4567, 4724), (4579, 128271), (4579, 125397), (4579, 15376), (4579, 123419), (4618, 128419), (4618, 124004), (4618, 128060), (4645, 128968), (4645, 4724), (4706, 102247), (4706, 124391), (4706, 125639), (4724, 123877), (4724, 124507), (4762, 4825), (4762, 4921), (4762, 9670), (4762, 4822), (4762, 130887), (4783, 52934), (4783, 130115), (4792, 131544), (4792, 134770), (4792, 135503), (4792, 133904), (4800, 39694), (4800, 130452), (4800, 130618), (4822, 135398), (4822, 134296), (4822, 135533), (4825, 134254), (4825, 132919), (4825, 132111), (4825, 133529), (4825, 134169), (4825, 133044), (4825, 132691), (4838, 130887), (4893, 133522), (4893, 133993), (4893, 131720), (4893, 131658), (4921, 60901), (4921, 130864), (4921, 131441), (4921, 134255), (4921, 22878), (4921, 131226), (4921, 133582), (4921, 65824), (4938, 131928), (4938, 131919), (4938, 133588), (5000, 48059), (5020, 138637), (5020, 137105), (5020, 138403), (5053, 138213), (5053, 139059), (5185, 142052), (5199, 142398), (5199, 144427), (5215, 143377), (5215, 34017), (5215, 49998), (5215, 8624), (5215, 142013), (5215, 141452), (5229, 141519), (5229, 144925), (5232, 143676), (5232, 141080), (5291, 141378), (5314, 11272), (5314, 148486), (5314, 19165), (5314, 148981), (5314, 146463), (5335, 146005), (5335, 150275), (5383, 147505), (5383, 66528), (5390, 20337), (5390, 149459), (5390, 147859), (5390, 148277), (5390, 147478), (5390, 147921), (5397, 147750), (5397, 20068), (5397, 149036), (5397, 148842), (5407, 74927), (5407, 105664), (5407, 146698), (5407, 146211), (5407, 148649), (5407, 146263), (5490, 151842), (5490, 150783), (5490, 152275), (5490, 9882), (5522, 151630), (5522, 152014), (5522, 155342), (5538, 154382), (5563, 154169), (5563, 153817), (5563, 150605), (5723, 160443), (5723, 159133), (5723, 160359), (5723, 160763), (5723, 156667), (5723, 159105), (5723, 160102), (5739, 158387), (5790, 160469), (5834, 159792), (5834, 157563), (5834, 160055), (5834, 160455), (5834, 156449), (5850, 158823), (5850, 159335), (5877, 166469), (5877, 163908), (5880, 162497), (5880, 165328), (5880, 163002), (5880, 165649), (5881, 104179), (5943, 95091), (5943, 97062), (5943, 164229), (5943, 166446), (5943, 163247), (5944, 163430), (5944, 164492), (5944, 166000), (5944, 162950), (5976, 161895), (5976, 24129), (5984, 165326), (5984, 165333), (5992, 163567), (5992, 105194), (5992, 10712), (5992, 162024), (5992, 39431), (5992, 165189), (5992, 165462), (5992, 162452), (6003, 163090), (6003, 163721), (6003, 165836), (6010, 134088), (6010, 131947), (6010, 164068), (6010, 162972), (6016, 170631), (6016, 168802), (6104, 167843), (6155, 11551), (6170, 172341), (6170, 167465), (6213, 171239), (6291, 177765), (6291, 174746), (6357, 146698), (6357, 177521), (6357, 175106), (6357, 176868), (6433, 175452), (6434, 173099), (6728, 188695), (6784, 183963), (6786, 188729), (6786, 32089), (6835, 40270), (6835, 16810), (6835, 189320), (6840, 61029), (6870, 193591), (6871, 190456), (6871, 189873), (6899, 190846), (6899, 191105), (6899, 191150), (6938, 190403), (6938, 102948), (6938, 192807), (7202, 196787), (7202, 201048), (7547, 211605), (7650, 57823), (7650, 210373), (7650, 212314), (7650, 208989), (7650, 210835), (7706, 215809), (7706, 214089), (7727, 212859), (7748, 10487), (7748, 217458), (7748, 214181), (7769, 217010), (7769, 215060), (7769, 214511), (7769, 215292), (7782, 192296), (7794, 166186), (7794, 57778), (7808, 217469), (7808, 214892), (7816, 213459), (7858, 220475), (7858, 220229), (7858, 223050), (7876, 218293), (7876, 219528), (7880, 222895), (7880, 218639), (7880, 219217), (7880, 219876), (7894, 218015), (7894, 220038), (7894, 219161), (7894, 223717), (7894, 220236), (7904, 220113), (7904, 219925), (7904, 218451), (7904, 221319), (7904, 219197), (7904, 23795), (7904, 220626), (7987, 220250), (7987, 220200), (8013, 222366), (8013, 218049), (8013, 220917), (8067, 10528), (8090, 224369), (8090, 39548), (8090, 228740), (8090, 227612), (8090, 226763), (8104, 226239), (8104, 227811), (8104, 224156), (8113, 88304), (8113, 226808), (8124, 150394), (8124, 226824), (8139, 228409), (8281, 16422), (8282, 11194), (8284, 8318), (8286, 124507), (8288, 12998), (8288, 13616), (8297, 13067), (8297, 12020), (8297, 13816), (8297, 14027), (8307, 10814), (8318, 12355), (8318, 14154), (8318, 11263), (8382, 96855), (8385, 18705), (8385, 8387), (8514, 30254), (8514, 27964), (8521, 30878), (8618, 11090), (8623, 19585), (8623, 36148), (8623, 34511), (8631, 36850), (8631, 38776), (8631, 38326), (8631, 37638), (8631, 36612), (8636, 38772), (8636, 37576), (8637, 39382), (8637, 36551), (8655, 38151), (8655, 39832), (8655, 38349), (8655, 38594), (8655, 36726), (8655, 36880), (8655, 38683), (8655, 37049), (8655, 10831), (8678, 39475), (8678, 10831), (8743, 41322), (8743, 45536), (8743, 45999), (8743, 40814), (8743, 41826), (8743, 43165), (8825, 55585), (8825, 53677), (8841, 11194), (8848, 56144), (8852, 55121), (8864, 56825), (8864, 56065), (8868, 60626), (8868, 59494), (8868, 61634), (8895, 57949), (8895, 56933), (8915, 59305), (8915, 61787), (8915, 61819), (8915, 61627), (8957, 67843), (8957, 63707), (8957, 63367), (8981, 64415), (8981, 65967), (8981, 67895), (9053, 32001), (9053, 75376), (9053, 78635), (9053, 77496), (9053, 78094), (9067, 54685), (9067, 77872), (9067, 75670), (9068, 75050), (9069, 75867), (9069, 76909), (9084, 75870), (9097, 79997), (9097, 84174), (9097, 79308), (9176, 85223), (9261, 98315), (9261, 99055), (9261, 24029), (9261, 99939), (9261, 93858), (9273, 94054), (9273, 99266), (9294, 96597), (9294, 96750), (9294, 97055), (9294, 100040), (9294, 94117), (9314, 104916), (9314, 100848), (9314, 101866), (9314, 101825), (9314, 102479), (9314, 100406), (9314, 101215), (9314, 100402), (9326, 101799), (9326, 104879), (9326, 105529), (9327, 101110), (9327, 101804), (9327, 102486), (9327, 104882), (9327, 102747), (9327, 101102), (9327, 105107), (9338, 100538), (9338, 100310), (9338, 57017), (9338, 100393), (9338, 57654), (9338, 102361), (9340, 103352), (9340, 17157), (9340, 100466), (9361, 100787), (9367, 36214), (9446, 74671), (9446, 113929), (9491, 114415), (9491, 113470), (9491, 114276), (9491, 111784), (9491, 112944), (9557, 129084), (9567, 38772), (9567, 125279), (9625, 130555), (9625, 134834), (9625, 134564), (9625, 135709), (9625, 134156), (9625, 130776), (9625, 130328), (9625, 129992), (9626, 36716), (9626, 58432), (9637, 134336), (9637, 38349), (9637, 132652), (9640, 131277), (9640, 134483), (9640, 133978), (9640, 135301), (9640, 133125), (9640, 131141), (9643, 133597), (9643, 24029), (9643, 103708), (9643, 130963), (9643, 133329), (9670, 134205), (9670, 130681), (9670, 129799), (9670, 134385), (9670, 134579), (9670, 132260), (9720, 138054), (9747, 142009), (9747, 141552), (9747, 141612), (9747, 141489), (9747, 145696), (9747, 141337), (9747, 143616), (9751, 142661), (9751, 142109), (9758, 143348), (9767, 141405), (9767, 131277), (9767, 145197), (9767, 142460), (9813, 146037), (9820, 148183), (9820, 43283), (9820, 149557), (9820, 149039), (9820, 85568), (9820, 147062), (9820, 146899), (9820, 148904), (9846, 151615), (9846, 154279), (9968, 105450), (9968, 162249), (9968, 165831), (9995, 163466), (9995, 164934), (9999, 165860), (10115, 175975), (10115, 174018), (10115, 173260), (10212, 186401), (10432, 209765), (10432, 210075), (10473, 217380), (10473, 216519), (10473, 213376), (10473, 216772), (10473, 215889), (10487, 216211), (10487, 217144), (10487, 213716), (10487, 213742), (10524, 222067), (10524, 110908), (10563, 221886), (10563, 220990), (10563, 219044), (10588, 65910), (10599, 225514), (10599, 128568), (10599, 224240), (10599, 226660), (10599, 226828), (10599, 229065), (10599, 228302), (10607, 15076), (10607, 117139), (10607, 227326), (10607, 224438), (10607, 228131), (10617, 226164), (10617, 229043), (10617, 227929), (10701, 17733), (10701, 17651), (10701, 18585), (10701, 20821), (10710, 19634), (10767, 11252), (10814, 33137), (10814, 35694), (10814, 33082), (10814, 32731), (10814, 14009), (10829, 40543), (10831, 37401), (10905, 48317), (10933, 56117), (10936, 52329), (10936, 52568), (10944, 54334), (10950, 58119), (10950, 59493), (10950, 16501), (10950, 35418), (10963, 57544), (10973, 58379), (10973, 57628), (10973, 39431), (11015, 70972), (11015, 70297), (11015, 68714), (11058, 11070), (11090, 81992), (11102, 82347), (11102, 80411), (11102, 82614), (11102, 82560), (11164, 99878), (11164, 99347), (11164, 96777), (11164, 97042), (11164, 98234), (11164, 95522), (11168, 97583), (11168, 95759), (11168, 93861), (11168, 94541), (11169, 95167), (11169, 94889), (11175, 97176), (11189, 24029), (11194, 96859), (11194, 95106), (11204, 102620), (11230, 108740), (11231, 108568), (11231, 110495), (11236, 109791), (11236, 106620), (11236, 20209), (11236, 106402), (11252, 116491), (11252, 116706), (11252, 117460), (11252, 113224), (11252, 112552), (11258, 11259), (11259, 51935), (11259, 115583), (11260, 112552), (11263, 114501), (11263, 113884), (11263, 116230), (11263, 116846), (11263, 112694), (11263, 114597), (11263, 115981), (11272, 114818), (11315, 123546), (11315, 127696), (11388, 103715), (11503, 166438), (11503, 38342), (11509, 166060), (11509, 165575), (11509, 59086), (11509, 131947), (11509, 163242), (11513, 165296), (11513, 165535), (11551, 168012), (11650, 194610), (11650, 191355), (11650, 194403), (11674, 196157), (11759, 215950), (11759, 217201), (11764, 213945), (11764, 212906), (12523, 14027), (14027, 16534), (14027, 14041), (14477, 34095), (16517, 163587), (32471, 34095), (33547, 34095), (33757, 34095), (33896, 34095), (34095, 35015), (39215, 59531), (54049, 209851), (58431, 59531), (59531, 61795), (59531, 60370), (86333, 96855), (86477, 163587), (93959, 98720), (95613, 96855), (95826, 96855), (95930, 98720), (96022, 96855), (96855, 98184), (97773, 98720), (98152, 98720), (98720, 99194), (111591, 113930), (111839, 113930), (112552, 116268), (113930, 115155), (113930, 115892), (133876, 210223), (191395, 191593), (207680, 209851), (207927, 210223), (209851, 210668), (209851, 212479)])"
      ]
     },
     "execution_count": 8,
     "metadata": {},
     "output_type": "execute_result"
    }
   ],
   "source": [
    "G1.edges"
   ]
  },
  {
   "cell_type": "code",
   "execution_count": null,
   "metadata": {},
   "outputs": [],
   "source": []
  },
  {
   "cell_type": "code",
   "execution_count": 117,
   "metadata": {},
   "outputs": [],
   "source": [
    "G1 = nx.Graph()\n",
    "G2 = nx.Graph()\n",
    "G3 = nx.Graph()\n",
    "\n",
    "edges1 = [(0, 1), (0, 4), (2, 5), (0, 8), (7, 9), (2, 4), (3, 6)]\n",
    "for e in edges1:\n",
    "    G1.add_edge(e[0],e[1])\n",
    "edges2 = [(10, 11), (14, 12), (10, 12), (13, 14),(21, 18), (15,17), (16, 14), (22, 18), (19, 20)]\n",
    "for e in edges2:\n",
    "    G2.add_edge(e[0]-10,e[1]-10)\n",
    "edges3 = [(25, 23), (24, 25), (24, 23), (23, 26)]\n",
    "for e in edges3:\n",
    "    G3.add_edge(e[0]-23,e[1]-23)\n"
   ]
  },
  {
   "cell_type": "code",
   "execution_count": 118,
   "metadata": {},
   "outputs": [],
   "source": [
    "sup_G = nx.Graph()\n",
    "for e in edges1:\n",
    "    sup_G.add_edge(e[0], e[1])\n",
    "for e in edges2:\n",
    "    sup_G.add_edge(e[0], e[1])\n",
    "for e in edges3:\n",
    "    sup_G.add_edge(e[0], e[1])\n"
   ]
  },
  {
   "cell_type": "code",
   "execution_count": 119,
   "metadata": {},
   "outputs": [
    {
     "data": {
      "text/plain": [
       "(EdgeView([(0, 1), (0, 4), (0, 8), (4, 2), (2, 5), (7, 9), (3, 6), (10, 11), (10, 12), (14, 12), (14, 13), (14, 16), (21, 18), (18, 22), (15, 17), (19, 20), (25, 23), (25, 24), (23, 24), (23, 26)]),\n",
       " 20)"
      ]
     },
     "execution_count": 119,
     "metadata": {},
     "output_type": "execute_result"
    }
   ],
   "source": [
    "sup_G.edges,len(sup_G.edges)"
   ]
  },
  {
   "cell_type": "code",
   "execution_count": 120,
   "metadata": {},
   "outputs": [
    {
     "data": {
      "text/plain": [
       "(EdgeView([(0, 1), (0, 4), (0, 8), (4, 2), (2, 5), (7, 9), (3, 6)]), 7)"
      ]
     },
     "execution_count": 120,
     "metadata": {},
     "output_type": "execute_result"
    }
   ],
   "source": [
    "G1.edges,len(G1.edges)"
   ]
  },
  {
   "cell_type": "code",
   "execution_count": 121,
   "metadata": {},
   "outputs": [
    {
     "data": {
      "text/plain": [
       "(EdgeView([(0, 1), (0, 2), (4, 2), (4, 3), (4, 6), (11, 8), (8, 12), (5, 7), (9, 10)]),\n",
       " 9)"
      ]
     },
     "execution_count": 121,
     "metadata": {},
     "output_type": "execute_result"
    }
   ],
   "source": [
    "G2.edges,len(G2.edges)"
   ]
  },
  {
   "cell_type": "code",
   "execution_count": 122,
   "metadata": {},
   "outputs": [
    {
     "data": {
      "text/plain": [
       "(EdgeView([(2, 0), (2, 1), (0, 1), (0, 3)]), 4)"
      ]
     },
     "execution_count": 122,
     "metadata": {},
     "output_type": "execute_result"
    }
   ],
   "source": [
    "G3.edges,len(G3.edges)"
   ]
  },
  {
   "cell_type": "code",
   "execution_count": 123,
   "metadata": {},
   "outputs": [
    {
     "data": {
      "image/png": "[encoded data removed]",
      "text/plain": [
       "<Figure size 640x480 with 1 Axes>"
      ]
     },
     "metadata": {},
     "output_type": "display_data"
    }
   ],
   "source": [
    "path = '/home/ad/mgao/BotDGT/New/SLATE/notebooks/'\n",
    "if os.path.exists(path+\"f_pickle/toy_dataset_layout.pkl\"):\n",
    "    with open(path+\"f_pickle/toy_dataset_layout.pkl\", \"rb\") as f:\n",
    "        new_fixed_layout = pickle.load(f)\n",
    "\n",
    "\n",
    "# print(new_fixed_layout)\n",
    "new_fixed_layout[20] = np.array([3.51951977, 0.18478261])\n",
    "\n",
    "nx.draw(\n",
    "    sup_G,\n",
    "    pos=new_fixed_layout,\n",
    "    with_labels=True,\n",
    "    node_size=800,\n",
    "    edgecolors=\"black\",\n",
    "    node_color=\"lightgrey\",\n",
    ")"
   ]
  },
  {
   "cell_type": "code",
   "execution_count": 9,
   "metadata": {},
   "outputs": [
    {
     "data": {
      "text/plain": [
       "(229580, 229580, 229580)"
      ]
     },
     "execution_count": 9,
     "metadata": {},
     "output_type": "execute_result"
    }
   ],
   "source": [
    "len(G1.nodes),len(G2.nodes),len(G3.nodes)"
   ]
  },
  {
   "cell_type": "code",
   "execution_count": 11,
   "metadata": {},
   "outputs": [],
   "source": [
    "import scipy.sparse as sp\n",
    "\n",
    "def create_sparse_adj_matrix(G):\n",
    "    n = len(G.nodes)\n",
    "    adj_matrix = sp.lil_matrix((n, n), dtype=int)  # 使用稀疏矩阵\n",
    "    for u, v in G.edges():\n",
    "        adj_matrix[u, v] = 1\n",
    "        adj_matrix[v, u] = 1  # 如果是无向图，需要对称\n",
    "    return adj_matrix\n",
    "\n",
    "# 创建稀疏邻接矩阵\n",
    "adj_matrix_1 = create_sparse_adj_matrix(G1)\n",
    "adj_matrix_2 = create_sparse_adj_matrix(G2)\n",
    "adj_matrix_3 = create_sparse_adj_matrix(G3)"
   ]
  },
  {
   "cell_type": "code",
   "execution_count": 11,
   "metadata": {},
   "outputs": [
    {
     "ename": "RuntimeError",
     "evalue": "[enforce fail at alloc_cpu.cpp:117] err == 0. DefaultCPUAllocator: can't allocate memory: you tried to allocate 210827905600 bytes. Error code 12 (Cannot allocate memory)",
     "output_type": "error",
     "traceback": [
      "\u001b[0;31m---------------------------------------------------------------------------\u001b[0m",
      "\u001b[0;31mRuntimeError\u001b[0m                              Traceback (most recent call last)",
      "Cell \u001b[0;32mIn[11], line 5\u001b[0m\n\u001b[1;32m      1\u001b[0m \u001b[38;5;66;03m# adj_matrix_1 = torch.zeros((20, 20))\u001b[39;00m\n\u001b[1;32m      2\u001b[0m \u001b[38;5;66;03m# adj_matrix_2 = torch.zeros((20, 20))\u001b[39;00m\n\u001b[1;32m      3\u001b[0m \u001b[38;5;66;03m# adj_matrix_3 = torch.zeros((20, 20))\u001b[39;00m\n\u001b[0;32m----> 5\u001b[0m adj_matrix_1 \u001b[38;5;241m=\u001b[39m \u001b[43mtorch\u001b[49m\u001b[38;5;241;43m.\u001b[39;49m\u001b[43mzeros\u001b[49m\u001b[43m(\u001b[49m\u001b[43m(\u001b[49m\u001b[38;5;28;43mlen\u001b[39;49m\u001b[43m(\u001b[49m\u001b[43mG1\u001b[49m\u001b[38;5;241;43m.\u001b[39;49m\u001b[43mnodes\u001b[49m\u001b[43m)\u001b[49m\u001b[43m,\u001b[49m\u001b[43m \u001b[49m\u001b[38;5;28;43mlen\u001b[39;49m\u001b[43m(\u001b[49m\u001b[43mG1\u001b[49m\u001b[38;5;241;43m.\u001b[39;49m\u001b[43mnodes\u001b[49m\u001b[43m)\u001b[49m\u001b[43m)\u001b[49m\u001b[43m)\u001b[49m\n\u001b[1;32m      6\u001b[0m adj_matrix_2 \u001b[38;5;241m=\u001b[39m torch\u001b[38;5;241m.\u001b[39mzeros((\u001b[38;5;28mlen\u001b[39m(G1\u001b[38;5;241m.\u001b[39mnodes), \u001b[38;5;28mlen\u001b[39m(G1\u001b[38;5;241m.\u001b[39mnodes)))\n\u001b[1;32m      7\u001b[0m adj_matrix_3 \u001b[38;5;241m=\u001b[39m torch\u001b[38;5;241m.\u001b[39mzeros((\u001b[38;5;28mlen\u001b[39m(G1\u001b[38;5;241m.\u001b[39mnodes), \u001b[38;5;28mlen\u001b[39m(G1\u001b[38;5;241m.\u001b[39mnodes)))\n",
      "\u001b[0;31mRuntimeError\u001b[0m: [enforce fail at alloc_cpu.cpp:117] err == 0. DefaultCPUAllocator: can't allocate memory: you tried to allocate 210827905600 bytes. Error code 12 (Cannot allocate memory)"
     ]
    }
   ],
   "source": [
    "# adj_matrix_1 = torch.zeros((20, 20))\n",
    "# adj_matrix_2 = torch.zeros((20, 20))\n",
    "# adj_matrix_3 = torch.zeros((20, 20))\n",
    "\n",
    "# adj_matrix_1 = torch.zeros((len(G1.nodes), len(G1.nodes)))\n",
    "# adj_matrix_2 = torch.zeros((len(G1.nodes), len(G1.nodes)))\n",
    "# adj_matrix_3 = torch.zeros((len(G1.nodes), len(G1.nodes)))\n",
    "\n",
    "# for e in G1.edges:\n",
    "#     u, v = e\n",
    "#     adj_matrix_1[u, v] = 1\n",
    "#     adj_matrix_1[v, u] = 1\n",
    "\n",
    "# for e in G2.edges:\n",
    "#     u, v = e\n",
    "#     adj_matrix_2[u, v] = 1\n",
    "#     adj_matrix_2[v, u] = 1\n",
    "\n",
    "# for e in G3.edges:\n",
    "#     u, v = e\n",
    "#     adj_matrix_3[u, v] = 1\n",
    "#     adj_matrix_3[v, u] = 1"
   ]
  },
  {
   "cell_type": "code",
   "execution_count": 12,
   "metadata": {},
   "outputs": [
    {
     "data": {
      "text/plain": [
       "((229580, 229580), (229580, 229580), (229580, 229580))"
      ]
     },
     "execution_count": 12,
     "metadata": {},
     "output_type": "execute_result"
    }
   ],
   "source": [
    "adj_matrix_1.shape, adj_matrix_2.shape,adj_matrix_3.shape"
   ]
  },
  {
   "cell_type": "code",
   "execution_count": 13,
   "metadata": {},
   "outputs": [
    {
     "data": {
      "text/plain": [
       "Data(edge_index=[2, 1249], edge_type=[1249], exist_nodes=[229580], clustering_coefficient=[229580, 1], bidirectional_links_ratio=[229580, 1], n_id=[229580])"
      ]
     },
     "execution_count": 13,
     "metadata": {},
     "output_type": "execute_result"
    }
   ],
   "source": [
    "sub_G[0]"
   ]
  },
  {
   "cell_type": "code",
   "execution_count": 14,
   "metadata": {},
   "outputs": [
    {
     "data": {
      "text/plain": [
       "Data(edge_index=[2, 14946], edge_type=[14946], exist_nodes=[229580], clustering_coefficient=[229580, 1], bidirectional_links_ratio=[229580, 1], n_id=[229580])"
      ]
     },
     "execution_count": 14,
     "metadata": {},
     "output_type": "execute_result"
    }
   ],
   "source": [
    "sub_G[1]"
   ]
  },
  {
   "cell_type": "code",
   "execution_count": 15,
   "metadata": {},
   "outputs": [],
   "source": [
    "from scipy.sparse import diags\n",
    "\n",
    "def create_sparse_ones_diagonal_matrix(n):\n",
    "    # 创建一个长度为n的全1数组\n",
    "    ones_diagonal = np.ones(n, dtype=int)\n",
    "    \n",
    "    # 使用diags函数创建稀疏对角矩阵\n",
    "    ones_diagonal_matrix = diags(ones_diagonal, format='lil')\n",
    "    \n",
    "    # 将稀疏矩阵转换为COO格式\n",
    "    coo_matrix = ones_diagonal_matrix.tocoo()\n",
    "    \n",
    "    # 将COO格式的稀疏矩阵转换为PyTorch稀疏张量\n",
    "    indices = torch.tensor(np.vstack((coo_matrix.row, coo_matrix.col)), dtype=torch.long)\n",
    "    values = torch.tensor(coo_matrix.data, dtype=torch.float)\n",
    "    size = torch.Size(coo_matrix.shape)\n",
    "    \n",
    "    sparse_tensor = torch.sparse_coo_tensor(indices, values, size)\n",
    "    \n",
    "    return sparse_tensor"
   ]
  },
  {
   "cell_type": "code",
   "execution_count": 16,
   "metadata": {},
   "outputs": [
    {
     "data": {
      "text/plain": [
       "torch.Size([2, 14946])"
      ]
     },
     "execution_count": 16,
     "metadata": {},
     "output_type": "execute_result"
    }
   ],
   "source": [
    "sub_G[1].edge_index.shape"
   ]
  },
  {
   "cell_type": "code",
   "execution_count": 17,
   "metadata": {},
   "outputs": [],
   "source": [
    "import torch\n",
    "from torch_geometric.utils import to_undirected\n",
    "from slate.datasets import Discrete_graph\n",
    "\n",
    "# Convert networkx into pytorch geometric data used in SLATE\n",
    "T = 3\n",
    "N1, N2, N3 = len(G1.nodes),len(G2.nodes),len(G3.nodes)\n",
    "edge_index1 = sub_G[1].edge_index.contiguous()\n",
    "edge_index2 = sub_G[2].edge_index.contiguous()\n",
    "edge_index3 = sub_G[3].edge_index.contiguous()\n",
    "# edge_index1 = adj_matrix_1.nonzero().t().contiguous()\n",
    "# edge_index2 = adj_matrix_2.nonzero().t().contiguous()\n",
    "# edge_index3 = adj_matrix_3.nonzero().t().contiguous()\n",
    "# x1 = torch.eye(N1 + 1)\n",
    "# x2 = torch.eye(N2 + 1)\n",
    "# x3 = torch.eye(N3 + 1)\n",
    "x1 = create_sparse_ones_diagonal_matrix(N1)\n",
    "x2 = create_sparse_ones_diagonal_matrix(N2)\n",
    "x3 = create_sparse_ones_diagonal_matrix(N3)\n",
    "time1 = torch.zeros(len(edge_index1[0]))\n",
    "time2 = torch.ones(len(edge_index2[0]))\n",
    "time3 = 2 * torch.ones(len(edge_index3[0]))\n",
    "weights1 = torch.ones(len(edge_index1[0]))\n",
    "weights2 = torch.ones(len(edge_index2[0]))\n",
    "weights3 = torch.ones(len(edge_index3[0]))\n",
    "\n",
    "dg1 = Discrete_graph(edge_index1, weights1, time1, x1, None)\n",
    "dg2 = Discrete_graph(edge_index2, weights2, time2, x2, None)\n",
    "dg3 = Discrete_graph(edge_index3, weights3, time3, x3, None)\n",
    "graphs = [dg1, dg2, dg3]"
   ]
  },
  {
   "cell_type": "code",
   "execution_count": 18,
   "metadata": {},
   "outputs": [
    {
     "data": {
      "text/plain": [
       "(torch.Size([2, 45331]), torch.Size([45331]))"
      ]
     },
     "execution_count": 18,
     "metadata": {},
     "output_type": "execute_result"
    }
   ],
   "source": [
    "edge_index3.shape, time3.shape"
   ]
  },
  {
   "cell_type": "code",
   "execution_count": 19,
   "metadata": {},
   "outputs": [
    {
     "data": {
      "text/plain": [
       "(torch.Size([2, 27264]), torch.Size([27264]))"
      ]
     },
     "execution_count": 19,
     "metadata": {},
     "output_type": "execute_result"
    }
   ],
   "source": [
    "edge_index2.shape,time2.shape"
   ]
  },
  {
   "cell_type": "code",
   "execution_count": 20,
   "metadata": {},
   "outputs": [
    {
     "data": {
      "text/plain": [
       "(torch.Size([2, 14946]), torch.Size([14946]))"
      ]
     },
     "execution_count": 20,
     "metadata": {},
     "output_type": "execute_result"
    }
   ],
   "source": [
    "edge_index1.shape,time1.shape"
   ]
  },
  {
   "cell_type": "code",
   "execution_count": 21,
   "metadata": {},
   "outputs": [
    {
     "name": "stdout",
     "output_type": "stream",
     "text": [
      "ei: tensor([[     2,      2,      2,  ..., 688740, 688740, 688740],\n",
      "        [ 16332,     56,  14713,  ..., 229543, 229561, 229577]])\n",
      "ew: tensor([1., 1., 1.,  ..., 1., 1., 1.])\n",
      "====================================================================================================\n",
      "ei_i: tensor([[     2,      2,      2,  ..., 225070, 225070, 225070],\n",
      "        [ 16332,     56,  14713,  ...,  27347, 229165, 227580]])\n",
      "ei_netxt: tensor([[     2,      2,      2,  ..., 225191, 225191, 225191],\n",
      "        [ 16332,     56,  14713,  ..., 224783, 228881, 229300]])\n",
      "nodes_snapshot tensor([     0,      2,      3,  ..., 229543, 229561, 229577])\n",
      "nodes_snapshot_next tensor([     0,      2,      3,  ..., 229561, 229567, 229577])\n",
      "****************************************************************************************************\n",
      "common_nodes: tensor([     0,      2,      3,  ..., 229543, 229561, 229577]) time_co: tensor([[     0,      2,      3,  ..., 229543, 229561, 229577],\n",
      "        [229580, 229582, 229583,  ..., 459123, 459141, 459157]])\n",
      "ei: tensor([[229582, 229582, 229582,  ..., 688741, 688741, 688741],\n",
      "        [245912, 229636, 244293,  ..., 459141, 459147, 459157]])\n",
      "ew: tensor([1., 1., 1.,  ..., 1., 1., 1.])\n",
      "====================================================================================================\n",
      "ei_i: tensor([[     2,      2,      2,  ..., 225191, 225191, 225191],\n",
      "        [ 16332,     56,  14713,  ..., 224783, 228881, 229300]])\n",
      "ei_netxt: tensor([[     2,      2,      2,  ..., 227266, 227266, 227266],\n",
      "        [ 16332,     56,  14713,  ...,  14814, 227370, 227711]])\n",
      "nodes_snapshot tensor([     0,      2,      3,  ..., 229561, 229567, 229577])\n",
      "nodes_snapshot_next tensor([     0,      2,      3,  ..., 229567, 229576, 229577])\n",
      "****************************************************************************************************\n",
      "common_nodes: tensor([     0,      2,      3,  ..., 229561, 229567, 229577]) time_co: tensor([[229580, 229582, 229583,  ..., 459141, 459147, 459157],\n",
      "        [459160, 459162, 459163,  ..., 688721, 688727, 688737]])\n",
      "ei: tensor([[459162, 459162, 459162,  ..., 688742, 688742, 688742],\n",
      "        [475492, 459216, 473873,  ..., 688727, 688736, 688737]])\n",
      "ew: tensor([1., 1., 1.,  ..., 1., 1., 1.])\n",
      "====================================================================================================\n",
      "torch.Size([2, 215882])\n",
      "688743\n",
      "Isolated Nodes tensor([     1,      4,      7,  ..., 688735, 688738, 688739])\n",
      "Virtual nodes [688740, 688741, 688742]\n"
     ]
    }
   ],
   "source": [
    "# SLATE SETTINGS\n",
    "add_time_connection = (\n",
    "    True  # Add temporal connection between identical nodes in different snapshots\n",
    ")\n",
    "remove_isolated = True  # Remove isolated nodes in the supra graph\n",
    "add_vn = True  # Add a virtual node connected to all nodes in the snapshot\n",
    "num_nodes = [N1, N2, N3]\n",
    "# Function to convert a list of DiscreteGraph objects into a connected supra graph\n",
    "# Same function used in dgt.lib.supra\n",
    "\n",
    "\n",
    "num_graphs = len(graphs)\n",
    "edge_index = []\n",
    "edge_weight = []\n",
    "l_id_vn = []\n",
    "# Supra graph creation\n",
    "\n",
    "for i in range(num_graphs):\n",
    "    ei = (\n",
    "        graphs[i].edge_index + i * num_nodes[i]\n",
    "    )  # IMPORTANT: We considere nodes in different snapshots as different nodes\n",
    "    ew = graphs[i].edge_weight\n",
    "\n",
    "    if add_vn:\n",
    "        # id_vn = num_nodes[i] * num_graphs + i  # Assign an id to the virtual node\n",
    "        id_vn = sum(num_nodes) + i\n",
    "        l_id_vn.append(id_vn)  # Necessary to identify the virtual node\n",
    "        nodes_snapshot = torch.unique(\n",
    "            ei.view(-1)\n",
    "        )  # Get the connected nodes in the snapshot\n",
    "        # Add connections between the virtual node and the nodes (deg > 0) in the snapshot\n",
    "        # We do not connect the virtual node to isolated nodes\n",
    "        vn_connections = torch.cat(\n",
    "            (\n",
    "                torch.tensor([id_vn] * len(nodes_snapshot)).view(1, -1),\n",
    "                nodes_snapshot.view(1, -1),\n",
    "            ),\n",
    "            dim=0,\n",
    "        )\n",
    "        ei = torch.cat((ei, vn_connections), dim=1)\n",
    "        ew = torch.cat((ew, torch.ones(len(nodes_snapshot))))\n",
    "\n",
    "        print('ei:',ei)\n",
    "        print('ew:',ew)\n",
    "        print('='*100)\n",
    "\n",
    "    if add_time_connection:\n",
    "        # Add temporal connections between identical nodes in different snapshots\n",
    "        if i < num_graphs - 1:\n",
    "            ei_i = graphs[i].edge_index\n",
    "            ei_next = graphs[i + 1].edge_index\n",
    "            print('ei_i:',ei_i)\n",
    "            print('ei_netxt:',ei_next)\n",
    "            \n",
    "            nodes_snapshot = torch.unique(ei_i.view(-1))\n",
    "            nodes_snapshot_next = torch.unique(ei_next.view(-1))\n",
    "\n",
    "            print('nodes_snapshot',nodes_snapshot)\n",
    "            print('nodes_snapshot_next',nodes_snapshot_next)\n",
    "            # Intersection\n",
    "            common_nodes = torch.LongTensor(\n",
    "                np.intersect1d(nodes_snapshot, nodes_snapshot_next)\n",
    "            )\n",
    "            # Add temporal connections\n",
    "\n",
    "            \n",
    "            # src = common_nodes + i * num_nodes[i]\n",
    "            # dst = common_nodes + i * num_nodes[i]\n",
    "            if i < 1:\n",
    "                src = common_nodes + i * num_nodes[i]\n",
    "                dst = common_nodes + num_nodes[i]\n",
    "            else:\n",
    "                src = common_nodes + i * num_nodes[i-1]\n",
    "                dst = common_nodes + sum(num_nodes[:i+1])\n",
    "            time_co = torch.vstack((src, dst))\n",
    "            ei = torch.cat((ei, time_co), dim=1)\n",
    "            ew = torch.cat((ew, torch.ones(len(common_nodes))))\n",
    "\n",
    "            print('*'*100)\n",
    "            print('common_nodes:',common_nodes,'time_co:',time_co)\n",
    "\n",
    "            # print('ei:',ei)\n",
    "            # print('ew:',ew)\n",
    "            # print('='*100)\n",
    "\n",
    "    edge_index.append(ei)\n",
    "    edge_weight.append(ew)\n",
    "edge_index = torch.cat(edge_index, dim=1)\n",
    "edge_weight = torch.cat(edge_weight)\n",
    "\n",
    "print(edge_index.shape)\n",
    "\n",
    "# Now we have to create a mask to remove the isolated nodes\n",
    "total_nodes = sum(num_nodes) + num_graphs if add_vn else sum(num_nodes)\n",
    "\n",
    "print(total_nodes)\n",
    "\n",
    "mask = torch.zeros(total_nodes)\n",
    "mask[torch.unique(edge_index)] = 1\n",
    "# Indices of isolated nodes\n",
    "isolated_nodes = torch.where(mask == 0)[0]\n",
    "print(\"Isolated Nodes\", isolated_nodes)\n",
    "print(\"Virtual nodes\", l_id_vn)\n",
    "\n",
    "# Make the graph undirected\n",
    "edge_index, edge_weight = to_undirected(edge_index, edge_weight)\n",
    "edge_weight = torch.ones(edge_index.size(1))\n",
    "# We return the edge_index, edge_weight, and the mask list of isolated nodes\n"
   ]
  },
  {
   "cell_type": "code",
   "execution_count": 22,
   "metadata": {},
   "outputs": [
    {
     "data": {
      "text/plain": [
       "688740"
      ]
     },
     "execution_count": 22,
     "metadata": {},
     "output_type": "execute_result"
    }
   ],
   "source": [
    "sum(num_nodes)"
   ]
  },
  {
   "cell_type": "code",
   "execution_count": 23,
   "metadata": {},
   "outputs": [
    {
     "data": {
      "text/plain": [
       "tensor([     0,      2,      3,  ..., 688740, 688741, 688742])"
      ]
     },
     "execution_count": 23,
     "metadata": {},
     "output_type": "execute_result"
    }
   ],
   "source": [
    "torch.unique(edge_index)"
   ]
  },
  {
   "cell_type": "code",
   "execution_count": 24,
   "metadata": {},
   "outputs": [
    {
     "name": "stdout",
     "output_type": "stream",
     "text": [
      "688743\n"
     ]
    }
   ],
   "source": [
    "print(total_nodes)"
   ]
  },
  {
   "cell_type": "code",
   "execution_count": 25,
   "metadata": {},
   "outputs": [
    {
     "data": {
      "text/plain": [
       "(688743, 688743)"
      ]
     },
     "execution_count": 25,
     "metadata": {},
     "output_type": "execute_result"
    }
   ],
   "source": [
    "import numpy as np\n",
    "from scipy.sparse import lil_matrix\n",
    "\n",
    "def create_sparse_adj_matrix(total_nodes, edge_index):\n",
    "    # 创建一个稀疏矩阵\n",
    "    adj_matrix = lil_matrix((total_nodes, total_nodes), dtype=int)\n",
    "    \n",
    "    # 遍历边索引并填充稀疏矩阵\n",
    "    for i in range(edge_index.shape[1]):\n",
    "        u, v = edge_index[:, i]\n",
    "        adj_matrix[u, v] = 1\n",
    "        adj_matrix[v, u] = 1  # 如果是无向图，需要对称\n",
    "    \n",
    "    return adj_matrix\n",
    "\n",
    "\n",
    "\n",
    "sup_G_adj = create_sparse_adj_matrix(total_nodes, edge_index)\n",
    "\n",
    "# # 将稀疏矩阵转换为密集矩阵以便查看\n",
    "# dense_matrix = sup_G_adj.toarray()\n",
    "\n",
    "# print(dense_matrix)\n",
    "sup_G_adj.shape"
   ]
  },
  {
   "cell_type": "code",
   "execution_count": 143,
   "metadata": {},
   "outputs": [
    {
     "name": "stdout",
     "output_type": "stream",
     "text": [
      "30\n"
     ]
    }
   ],
   "source": [
    "\n",
    "# sup_G_adj = np.zeros((total_nodes, total_nodes))\n",
    "# for i in range(edge_index.shape[1]):\n",
    "#     u, v = edge_index[:, i]\n",
    "#     sup_G_adj[u, v] = 1\n",
    "#     sup_G_adj[v, u] = 1\n",
    "\n"
   ]
  },
  {
   "cell_type": "code",
   "execution_count": 36,
   "metadata": {},
   "outputs": [],
   "source": [
    "transform_sup_G = nx.from_numpy_array(sup_G_adj)\n",
    "# layout_transform_sup_G = new_fixed_layout.copy()"
   ]
  },
  {
   "cell_type": "code",
   "execution_count": 145,
   "metadata": {},
   "outputs": [],
   "source": [
    "layout_transform_sup_G[30] = np.array([-0.8, 0.11])\n",
    "layout_transform_sup_G[31] = np.array([1.60, 0.11])\n",
    "layout_transform_sup_G[32] = np.array([3.90, 0.11])\n"
   ]
  },
  {
   "cell_type": "code",
   "execution_count": 26,
   "metadata": {},
   "outputs": [
    {
     "ename": "NameError",
     "evalue": "name 'transform_sup_G' is not defined",
     "output_type": "error",
     "traceback": [
      "\u001b[0;31m---------------------------------------------------------------------------\u001b[0m",
      "\u001b[0;31mNameError\u001b[0m                                 Traceback (most recent call last)",
      "Cell \u001b[0;32mIn[26], line 1\u001b[0m\n\u001b[0;32m----> 1\u001b[0m \u001b[43mtransform_sup_G\u001b[49m\u001b[38;5;241m.\u001b[39mremove_nodes_from(\u001b[38;5;28mlist\u001b[39m(isolated_nodes))\n",
      "\u001b[0;31mNameError\u001b[0m: name 'transform_sup_G' is not defined"
     ]
    }
   ],
   "source": [
    "transform_sup_G.remove_nodes_from(list(isolated_nodes))"
   ]
  },
  {
   "cell_type": "code",
   "execution_count": 147,
   "metadata": {},
   "outputs": [
    {
     "data": {
      "image/png": "[encoded data removed]",
      "text/plain": [
       "<Figure size 640x480 with 1 Axes>"
      ]
     },
     "metadata": {},
     "output_type": "display_data"
    }
   ],
   "source": [
    "nx.draw(\n",
    "    transform_sup_G,\n",
    "    pos=layout_transform_sup_G,\n",
    "    with_labels=True,\n",
    "    node_size=800,\n",
    "    edgecolors=\"black\",\n",
    "    node_color=\"lightgrey\",\n",
    ")"
   ]
  },
  {
   "cell_type": "code",
   "execution_count": 31,
   "metadata": {},
   "outputs": [],
   "source": [
    "from slate.lib import reindex_edge_index, AddSupraLaplacianPE\n",
    "import torch.nn as nn\n",
    "from scipy.sparse.linalg import eigsh\n",
    "\n",
    "# SLATE EXAMPLE SETTINGS\n",
    "k = 12\n",
    "dim_embedding = 4\n",
    "normalization = \"sym\"\n",
    "\n",
    "supralaplacianPE = AddSupraLaplacianPE(\n",
    "    k=k, normalization=normalization, is_undirected=True, add_eig_vals=False,\n",
    "    which=\"SA\",\n",
    ")\n",
    "embed_nodes = nn.Embedding(sum(num_nodes), embedding_dim=dim_embedding)"
   ]
  },
  {
   "cell_type": "code",
   "execution_count": 32,
   "metadata": {},
   "outputs": [
    {
     "data": {
      "text/plain": [
       "Embedding(688740, 4)"
      ]
     },
     "execution_count": 32,
     "metadata": {},
     "output_type": "execute_result"
    }
   ],
   "source": [
    "embed_nodes"
   ]
  },
  {
   "cell_type": "code",
   "execution_count": 33,
   "metadata": {},
   "outputs": [
    {
     "name": "stdout",
     "output_type": "stream",
     "text": [
      "num_nodes_supra: 86074\n"
     ]
    }
   ],
   "source": [
    "# from slate.lib import reindex_edge_index, AddSupraLaplacianPE\n",
    "import torch.nn as nn\n",
    "\n",
    "new_edge_index = reindex_edge_index(\n",
    "    edge_index\n",
    ")  # Reindex the edge index to remove isolated nodes, Necessary to compute eigenvalues\n",
    "num_nodes_supra = len(torch.unique(new_edge_index[0]))\n",
    "len(torch.unique(new_edge_index)) == total_nodes - len(isolated_nodes)\n",
    "k = 12\n",
    "print('num_nodes_supra:',num_nodes_supra)\n",
    "\n",
    "pe = supralaplacianPE(\n",
    "    edge_index=new_edge_index, \n",
    "    edge_weight=edge_weight, \n",
    "    num_nodes=num_nodes_supra, \n",
    ")\n",
    "# Add the positional encoding to the isolated nodes (0)\n",
    "all_pe = torch.zeros((total_nodes, k))\n",
    "all_pe[mask == 1] = pe"
   ]
  },
  {
   "cell_type": "code",
   "execution_count": 35,
   "metadata": {},
   "outputs": [
    {
     "name": "stdout",
     "output_type": "stream",
     "text": [
      "tokens1.shape: torch.Size([229580, 4])\n",
      "tokens2.shape: torch.Size([229580, 4])\n",
      "tokens3.shape: torch.Size([229580, 4])\n",
      "tokens.shape: torch.Size([688740, 4])\n",
      "tensor([[ 1.0507,  1.3846, -0.0496, -0.8181],\n",
      "        [ 0.6449, -0.4130, -1.1943, -0.0029],\n",
      "        [-0.6138,  1.8671,  0.6446, -0.3900],\n",
      "        ...,\n",
      "        [ 0.0148,  0.0438, -0.5971,  2.0442],\n",
      "        [-0.9589, -0.0794, -0.6772, -0.8957],\n",
      "        [-0.3793, -0.5920, -0.6929, -2.6479]], grad_fn=<EmbeddingBackward0>)\n",
      "node_embedding1[-1]: tensor([-0.3793, -0.5920, -0.6929, -2.6479], grad_fn=<SelectBackward0>)\n",
      "torch.Size([3, 4])\n"
     ]
    },
    {
     "name": "stderr",
     "output_type": "stream",
     "text": [
      "/tmp/ipykernel_3198136/1358907301.py:23: UserWarning: To copy construct from a tensor, it is recommended to use sourceTensor.clone().detach() or sourceTensor.clone().detach().requires_grad_(True), rather than torch.tensor(sourceTensor).\n",
      "  vn_emb = torch.cat([torch.tensor(node_embedding1[-1]).unsqueeze(0), torch.tensor(node_embedding2[-1]).unsqueeze(0), torch.tensor(node_embedding3[-1]).unsqueeze(0)], dim=0)\n"
     ]
    },
    {
     "data": {
      "text/plain": [
       "torch.Size([688743, 4])"
      ]
     },
     "execution_count": 35,
     "metadata": {},
     "output_type": "execute_result"
    }
   ],
   "source": [
    "node_embedding1 = embed_nodes(torch.arange(N1+1))\n",
    "node_embedding2 = embed_nodes(torch.arange(N2+1))\n",
    "node_embedding3 = embed_nodes(torch.arange(N3+1))\n",
    "\n",
    "# print(node_embedding1,node_embedding1.shape)\n",
    "# print(node_embedding1[:-1, :].shape)\n",
    "\n",
    "\n",
    "# We consider same node in different snapshots as different nodes\n",
    "tokens1 = node_embedding1[:-1, :]\n",
    "tokens2 = node_embedding2[:-1, :]\n",
    "tokens3 = node_embedding3[:-1, :]\n",
    "print('tokens1.shape:',tokens1.shape)\n",
    "print('tokens2.shape:',tokens2.shape)\n",
    "print('tokens3.shape:',tokens3.shape)\n",
    "\n",
    "tokens = torch.cat([tokens1, tokens2, tokens3], dim=0)\n",
    "print('tokens.shape:',tokens.shape)\n",
    "\n",
    "print(node_embedding1)\n",
    "print('node_embedding1[-1]:',node_embedding1[-1])\n",
    "\n",
    "vn_emb = torch.cat([torch.tensor(node_embedding1[-1]).unsqueeze(0), torch.tensor(node_embedding2[-1]).unsqueeze(0), torch.tensor(node_embedding3[-1]).unsqueeze(0)], dim=0)\n",
    "\n",
    "print(vn_emb.shape)\n",
    "# cat the tokens of the nodes and the num_graphs virtual nodes\n",
    "tokens = torch.cat(\n",
    "    (tokens, vn_emb), dim=0\n",
    ")  # Add the virtual nodes at the end of the tokens\n",
    "\n",
    "tokens.shape"
   ]
  },
  {
   "cell_type": "code",
   "execution_count": 36,
   "metadata": {},
   "outputs": [
    {
     "data": {
      "text/plain": [
       "torch.Size([688743, 16])"
      ]
     },
     "execution_count": 36,
     "metadata": {},
     "output_type": "execute_result"
    }
   ],
   "source": [
    "# Add the positional encoding to the tokens\n",
    "tokens = torch.cat((tokens, all_pe), dim=1)\n",
    "tokens.shape"
   ]
  },
  {
   "cell_type": "code",
   "execution_count": 37,
   "metadata": {},
   "outputs": [
    {
     "name": "stderr",
     "output_type": "stream",
     "text": [
      "/home/ad/miniconda/envs/SLATE/lib/python3.9/site-packages/torch/nn/modules/transformer.py:286: UserWarning: enable_nested_tensor is True, but self.use_nested_tensor is False because encoder_layer.norm_first was True\n",
      "  warnings.warn(f\"enable_nested_tensor is True, but self.use_nested_tensor is False because {why_not_sparsity_fast_path}\")\n"
     ]
    }
   ],
   "source": [
    "lin_transform = nn.Linear(dim_embedding + k, dim_embedding)\n",
    "tokens = lin_transform(tokens)\n",
    "\n",
    "\n",
    "norm = nn.LayerNorm(dim_embedding)\n",
    "encoder_layer = nn.TransformerEncoderLayer(\n",
    "    d_model=dim_embedding,\n",
    "    nhead=2,\n",
    "    dim_feedforward=24,\n",
    "    batch_first=True,\n",
    "    norm_first=True,\n",
    ")\n",
    "\n",
    "spatio_temp_attn = nn.TransformerEncoder(encoder_layer, num_layers=1, norm=norm)"
   ]
  },
  {
   "cell_type": "code",
   "execution_count": 43,
   "metadata": {},
   "outputs": [
    {
     "data": {
      "text/plain": [
       "TransformerEncoder(\n",
       "  (layers): ModuleList(\n",
       "    (0): TransformerEncoderLayer(\n",
       "      (self_attn): MultiheadAttention(\n",
       "        (out_proj): NonDynamicallyQuantizableLinear(in_features=4, out_features=4, bias=True)\n",
       "      )\n",
       "      (linear1): Linear(in_features=4, out_features=24, bias=True)\n",
       "      (dropout): Dropout(p=0.1, inplace=False)\n",
       "      (linear2): Linear(in_features=24, out_features=4, bias=True)\n",
       "      (norm1): LayerNorm((4,), eps=1e-05, elementwise_affine=True)\n",
       "      (norm2): LayerNorm((4,), eps=1e-05, elementwise_affine=True)\n",
       "      (dropout1): Dropout(p=0.1, inplace=False)\n",
       "      (dropout2): Dropout(p=0.1, inplace=False)\n",
       "    )\n",
       "  )\n",
       "  (norm): LayerNorm((4,), eps=1e-05, elementwise_affine=True)\n",
       ")"
      ]
     },
     "execution_count": 43,
     "metadata": {},
     "output_type": "execute_result"
    }
   ],
   "source": [
    "spatio_temp_attn"
   ]
  },
  {
   "cell_type": "code",
   "execution_count": 50,
   "metadata": {},
   "outputs": [],
   "source": [
    "from scipy.sparse import csr_matrix,vstack\n",
    "\n",
    "\n",
    "def process_tokens_in_chunks_sparse(tokens, chunk_size, spatio_temp_attn, T):\n",
    "    final_embs = []\n",
    "    for i in range(0, tokens.size(0), chunk_size):\n",
    "        chunk = tokens[i:i + chunk_size]\n",
    "        embed_token = spatio_temp_attn(chunk.unsqueeze(0)).squeeze()\n",
    "        # print('embed_token:',embed_token.shape)\n",
    "        final_emb = embed_token\n",
    "        # final_emb = embed_token[:-T,:]\n",
    "        \n",
    "        # 将final_emb转换为稀疏矩阵\n",
    "        sparse_final_emb = csr_matrix(final_emb.detach().numpy())\n",
    "        final_embs.append(sparse_final_emb)\n",
    "    \n",
    "    # 合并稀疏矩阵\n",
    "    combined_sparse_emb = csr_matrix(vstack(final_embs))\n",
    "    return combined_sparse_emb[:-T,:]"
   ]
  },
  {
   "cell_type": "code",
   "execution_count": 51,
   "metadata": {},
   "outputs": [
    {
     "data": {
      "text/plain": [
       "(688740, 4)"
      ]
     },
     "execution_count": 51,
     "metadata": {},
     "output_type": "execute_result"
    }
   ],
   "source": [
    "chunk_size = 100\n",
    "\n",
    "final_emb_sparse = process_tokens_in_chunks_sparse(tokens,chunk_size,spatio_temp_attn,T)\n",
    "final_emb_sparse.shape"
   ]
  },
  {
   "cell_type": "code",
   "execution_count": 52,
   "metadata": {},
   "outputs": [
    {
     "data": {
      "text/plain": [
       "[229580, 229580, 229580]"
      ]
     },
     "execution_count": 52,
     "metadata": {},
     "output_type": "execute_result"
    }
   ],
   "source": [
    "num_nodes"
   ]
  },
  {
   "cell_type": "code",
   "execution_count": 118,
   "metadata": {},
   "outputs": [],
   "source": [
    "import torch\n",
    "from scipy.sparse import csr_matrix\n",
    "\n",
    "def reshape_sparse_matrix(csr_matrix_example, N, T, dim_embedding):\n",
    "    \"\"\"\n",
    "    Reshape a CSR matrix of shape (N*3, 4) into a sparse tensor with shape (N, 3, 4).\n",
    "    \n",
    "    Parameters:\n",
    "    csr_matrix_example (csr_matrix): Input sparse CSR matrix of shape (N*3, 4).\n",
    "    N (int): The number of nodes (the new first dimension of the tensor).\n",
    "    T (int): The second dimension (3 rows for each node).\n",
    "    dim_embedding (int): The third dimension (4 features for each node).\n",
    "    \n",
    "    Returns:\n",
    "    torch.Tensor: A sparse tensor of shape (N, 3, 4).\n",
    "    \"\"\"\n",
    "    # Ensure the input matrix has the correct shape (N*3, 4)\n",
    "    assert csr_matrix_example.shape[0] == N * T and csr_matrix_example.shape[1] == dim_embedding, \\\n",
    "        f\"Expected shape ({N*T}, {dim_embedding}), but got {csr_matrix_example.shape}\"\n",
    "\n",
    "    # Get the row, column, and data from the CSR matrix\n",
    "    rows = csr_matrix_example.indices  # Row indices of non-zero values\n",
    "    cols = csr_matrix_example.indptr[:-1]  # Column indices (indptr gives the starting position)\n",
    "    data = csr_matrix_example.data  # Non-zero values\n",
    "\n",
    "    # Row mapping: We are reshaping N*3 rows into N blocks, each with T rows\n",
    "    row_mapping = rows // T  # Group rows into N groups (N is the number of nodes)\n",
    "\n",
    "    # Column mapping: No need to change column mapping as we have the same number of features (dim_embedding)\n",
    "    col_mapping = cols  # Column mapping is the same as the original matrix\n",
    "\n",
    "    # Check for shape mismatch\n",
    "    if row_mapping.shape[0] != len(data):\n",
    "        raise ValueError(f\"Mismatch between row mapping length and data length: {row_mapping.shape[0]} vs {len(data)}\")\n",
    "\n",
    "    # Generate new indices for reshaping: The row_mapping and column_mapping determine the new sparse indices\n",
    "    reshaped_indices = torch.stack([torch.tensor(row_mapping, dtype=torch.long),\n",
    "                                    torch.tensor(cols[:-1], dtype=torch.long)], dim=0)\n",
    "    \n",
    "    # Create a sparse tensor from the reshaped indices and original data\n",
    "    new_shape = (N, T, dim_embedding)\n",
    "    reshaped_sparse_tensor = torch.sparse_coo_tensor(reshaped_indices, torch.tensor(data, dtype=torch.float32),\n",
    "                                                     size=new_shape)\n",
    "\n",
    "    return reshaped_sparse_tensor\n"
   ]
  },
  {
   "cell_type": "code",
   "execution_count": 119,
   "metadata": {},
   "outputs": [
    {
     "data": {
      "text/plain": [
       "(688740, 4)"
      ]
     },
     "execution_count": 119,
     "metadata": {},
     "output_type": "execute_result"
    }
   ],
   "source": [
    "final_emb_sparse.shape"
   ]
  },
  {
   "cell_type": "code",
   "execution_count": 138,
   "metadata": {},
   "outputs": [
    {
     "ename": "RuntimeError",
     "evalue": "number of dimensions must be sparse_dim (2) + dense_dim (0), but got 3",
     "output_type": "error",
     "traceback": [
      "\u001b[0;31m---------------------------------------------------------------------------\u001b[0m",
      "\u001b[0;31mRuntimeError\u001b[0m                              Traceback (most recent call last)",
      "Cell \u001b[0;32mIn[138], line 47\u001b[0m\n\u001b[1;32m     40\u001b[0m     \u001b[38;5;28;01mreturn\u001b[39;00m reshaped_sparse_tensor\n\u001b[1;32m     42\u001b[0m \u001b[38;5;66;03m# 示例使用\u001b[39;00m\n\u001b[1;32m     43\u001b[0m \u001b[38;5;66;03m# 假设 csr_matrix_example 是您的输入稀疏矩阵\u001b[39;00m\n\u001b[1;32m     44\u001b[0m \u001b[38;5;66;03m# csr_matrix_example = csr_matrix(<您的稀疏矩阵数据>)\u001b[39;00m\n\u001b[1;32m     45\u001b[0m \n\u001b[1;32m     46\u001b[0m \u001b[38;5;66;03m# 重塑稀疏矩阵\u001b[39;00m\n\u001b[0;32m---> 47\u001b[0m reshaped_sparse_tensor \u001b[38;5;241m=\u001b[39m \u001b[43mreshape_sparse_matrix\u001b[49m\u001b[43m(\u001b[49m\u001b[43mcsr_matrix_example\u001b[49m\u001b[43m,\u001b[49m\u001b[43m \u001b[49m\u001b[43m(\u001b[49m\u001b[38;5;241;43m229580\u001b[39;49m\u001b[43m,\u001b[49m\u001b[43m \u001b[49m\u001b[38;5;241;43m3\u001b[39;49m\u001b[43m,\u001b[49m\u001b[43m \u001b[49m\u001b[38;5;241;43m4\u001b[39;49m\u001b[43m)\u001b[49m\u001b[43m)\u001b[49m\n\u001b[1;32m     48\u001b[0m \u001b[38;5;28mprint\u001b[39m(reshaped_sparse_tensor)\n",
      "Cell \u001b[0;32mIn[138], line 34\u001b[0m, in \u001b[0;36mreshape_sparse_matrix\u001b[0;34m(csr_matrix_example, new_shape)\u001b[0m\n\u001b[1;32m     28\u001b[0m reshaped_indices \u001b[38;5;241m=\u001b[39m torch\u001b[38;5;241m.\u001b[39mstack([\n\u001b[1;32m     29\u001b[0m     torch\u001b[38;5;241m.\u001b[39mtensor(new_rows, dtype\u001b[38;5;241m=\u001b[39mtorch\u001b[38;5;241m.\u001b[39mlong),  \u001b[38;5;66;03m# 新的行索引\u001b[39;00m\n\u001b[1;32m     30\u001b[0m     torch\u001b[38;5;241m.\u001b[39mtensor(new_cols, dtype\u001b[38;5;241m=\u001b[39mtorch\u001b[38;5;241m.\u001b[39mlong)   \u001b[38;5;66;03m# 新的列索引\u001b[39;00m\n\u001b[1;32m     31\u001b[0m ], dim\u001b[38;5;241m=\u001b[39m\u001b[38;5;241m0\u001b[39m)\n\u001b[1;32m     33\u001b[0m \u001b[38;5;66;03m# 创建新的稀疏张量（二维）\u001b[39;00m\n\u001b[0;32m---> 34\u001b[0m reshaped_sparse_tensor \u001b[38;5;241m=\u001b[39m \u001b[43mtorch\u001b[49m\u001b[38;5;241;43m.\u001b[39;49m\u001b[43msparse_coo_tensor\u001b[49m\u001b[43m(\u001b[49m\n\u001b[1;32m     35\u001b[0m \u001b[43m    \u001b[49m\u001b[43mindices\u001b[49m\u001b[38;5;241;43m=\u001b[39;49m\u001b[43mreshaped_indices\u001b[49m\u001b[43m,\u001b[49m\n\u001b[1;32m     36\u001b[0m \u001b[43m    \u001b[49m\u001b[43mvalues\u001b[49m\u001b[38;5;241;43m=\u001b[39;49m\u001b[43mtorch\u001b[49m\u001b[38;5;241;43m.\u001b[39;49m\u001b[43mtensor\u001b[49m\u001b[43m(\u001b[49m\u001b[43mdata\u001b[49m\u001b[43m,\u001b[49m\u001b[43m \u001b[49m\u001b[43mdtype\u001b[49m\u001b[38;5;241;43m=\u001b[39;49m\u001b[43mtorch\u001b[49m\u001b[38;5;241;43m.\u001b[39;49m\u001b[43mfloat32\u001b[49m\u001b[43m)\u001b[49m\u001b[43m,\u001b[49m\n\u001b[1;32m     37\u001b[0m \u001b[43m    \u001b[49m\u001b[43msize\u001b[49m\u001b[38;5;241;43m=\u001b[39;49m\u001b[43m(\u001b[49m\u001b[43mN\u001b[49m\u001b[43m,\u001b[49m\u001b[43m \u001b[49m\u001b[43mT\u001b[49m\u001b[43m,\u001b[49m\u001b[43m \u001b[49m\u001b[43mdim_embedding\u001b[49m\u001b[43m)\u001b[49m\u001b[43m  \u001b[49m\u001b[38;5;66;43;03m# 这里是三维\u001b[39;49;00m\n\u001b[1;32m     38\u001b[0m \u001b[43m\u001b[49m\u001b[43m)\u001b[49m\n\u001b[1;32m     40\u001b[0m \u001b[38;5;28;01mreturn\u001b[39;00m reshaped_sparse_tensor\n",
      "\u001b[0;31mRuntimeError\u001b[0m: number of dimensions must be sparse_dim (2) + dense_dim (0), but got 3"
     ]
    }
   ],
   "source": [
    "import numpy as np\n",
    "import torch\n",
    "from scipy.sparse import csr_matrix\n",
    "\n",
    "def reshape_sparse_matrix(csr_matrix_example, new_shape):\n",
    "    \"\"\"\n",
    "    将稀疏矩阵从 (688740, 4) 重塑为 (229580, 3, 4) 的稀疏矩阵。\n",
    "    \n",
    "    参数:\n",
    "    csr_matrix_example (csr_matrix): 输入的稀疏矩阵\n",
    "    new_shape (tuple): 目标形状，应该为 (229580, 3, 4)\n",
    "\n",
    "    返回:\n",
    "    torch.sparse.Tensor: 重塑后的稀疏张量\n",
    "    \"\"\"\n",
    "    # 获取稀疏矩阵的行和列索引及其数据\n",
    "    rows, cols = csr_matrix_example.nonzero()\n",
    "    data = csr_matrix_example.data\n",
    "    \n",
    "    # 确定新的形状\n",
    "    N, T, dim_embedding = new_shape  # N = 229580, T = 3, dim_embedding = 4\n",
    "    \n",
    "    # 创建新的行映射\n",
    "    new_rows = (rows // T).astype(int)  # 将原行索引映射到新行索引\n",
    "\n",
    "    # 创建新的稀疏张量索引\n",
    "    reshaped_indices = torch.stack([\n",
    "        torch.tensor(new_rows, dtype=torch.long),  # 新的行索引\n",
    "        torch.tensor(cols, dtype=torch.long)       # 保持列索引不变\n",
    "    ], dim=0)\n",
    "\n",
    "    # 创建新的稀疏张量（二维）\n",
    "    reshaped_sparse_tensor = torch.sparse_coo_tensor(\n",
    "        indices=reshaped_indices,\n",
    "        values=torch.tensor(data, dtype=torch.float32),\n",
    "        size=(N, dim_embedding)  # 这里是二维\n",
    "    )\n",
    "\n",
    "    return reshaped_sparse_tensor\n",
    "\n",
    "\n",
    "\n",
    "# 重塑稀疏矩阵\n",
    "reshaped_sparse_tensor = reshape_sparse_matrix(final_emb_sparse, (229580, 3, 4))\n",
    "print(reshaped_sparse_tensor)\n"
   ]
  },
  {
   "cell_type": "code",
   "execution_count": 137,
   "metadata": {},
   "outputs": [
    {
     "data": {
      "text/plain": [
       "torch.Size([229580, 4])"
      ]
     },
     "execution_count": 137,
     "metadata": {},
     "output_type": "execute_result"
    }
   ],
   "source": [
    "reshaped_sparse_tensor.shape"
   ]
  },
  {
   "cell_type": "code",
   "execution_count": 99,
   "metadata": {},
   "outputs": [
    {
     "data": {
      "text/plain": [
       "scipy.sparse._csr.csr_matrix"
      ]
     },
     "execution_count": 99,
     "metadata": {},
     "output_type": "execute_result"
    }
   ],
   "source": [
    "type(final_emb_sparse)"
   ]
  },
  {
   "cell_type": "code",
   "execution_count": 94,
   "metadata": {},
   "outputs": [
    {
     "ename": "RuntimeError",
     "evalue": "stack expects each tensor to be equal size, but got [2754960] at entry 0 and [688741] at entry 1",
     "output_type": "error",
     "traceback": [
      "\u001b[0;31m---------------------------------------------------------------------------\u001b[0m",
      "\u001b[0;31mRuntimeError\u001b[0m                              Traceback (most recent call last)",
      "Cell \u001b[0;32mIn[94], line 1\u001b[0m\n\u001b[0;32m----> 1\u001b[0m final_emb \u001b[38;5;241m=\u001b[39m \u001b[43mreshape_sparse_matrix\u001b[49m\u001b[43m(\u001b[49m\u001b[43mfinal_emb_sparse\u001b[49m\u001b[43m,\u001b[49m\u001b[43m \u001b[49m\u001b[43mnum_nodes\u001b[49m\u001b[43m[\u001b[49m\u001b[38;5;241;43m0\u001b[39;49m\u001b[43m]\u001b[49m\u001b[43m,\u001b[49m\u001b[43m \u001b[49m\u001b[43mT\u001b[49m\u001b[43m,\u001b[49m\u001b[43m \u001b[49m\u001b[43mdim_embedding\u001b[49m\u001b[43m)\u001b[49m\n\u001b[1;32m      2\u001b[0m final_emb\u001b[38;5;241m.\u001b[39mshape\n",
      "Cell \u001b[0;32mIn[92], line 33\u001b[0m, in \u001b[0;36mreshape_sparse_matrix\u001b[0;34m(final_emb_sparse, N, T, dim_embedding)\u001b[0m\n\u001b[1;32m     30\u001b[0m col_mapping \u001b[38;5;241m=\u001b[39m torch\u001b[38;5;241m.\u001b[39mtensor(cols, dtype\u001b[38;5;241m=\u001b[39mtorch\u001b[38;5;241m.\u001b[39mlong)\n\u001b[1;32m     32\u001b[0m \u001b[38;5;66;03m# Create the new sparse matrix indices\u001b[39;00m\n\u001b[0;32m---> 33\u001b[0m reshaped_indices \u001b[38;5;241m=\u001b[39m \u001b[43mtorch\u001b[49m\u001b[38;5;241;43m.\u001b[39;49m\u001b[43mstack\u001b[49m\u001b[43m(\u001b[49m\u001b[43m[\u001b[49m\u001b[43mrow_mapping\u001b[49m\u001b[43m,\u001b[49m\u001b[43m \u001b[49m\u001b[43mcol_mapping\u001b[49m\u001b[43m]\u001b[49m\u001b[43m,\u001b[49m\u001b[43m \u001b[49m\u001b[43mdim\u001b[49m\u001b[38;5;241;43m=\u001b[39;49m\u001b[38;5;241;43m0\u001b[39;49m\u001b[43m)\u001b[49m\n\u001b[1;32m     35\u001b[0m \u001b[38;5;66;03m# Create a sparse tensor with the reshaped indices and the original data\u001b[39;00m\n\u001b[1;32m     36\u001b[0m new_shape \u001b[38;5;241m=\u001b[39m (N, T, dim_embedding)\n",
      "\u001b[0;31mRuntimeError\u001b[0m: stack expects each tensor to be equal size, but got [2754960] at entry 0 and [688741] at entry 1"
     ]
    }
   ],
   "source": [
    "final_emb = reshape_sparse_matrix(final_emb_sparse, num_nodes[0], T, dim_embedding)\n",
    "final_emb.shape"
   ]
  },
  {
   "cell_type": "code",
   "execution_count": 58,
   "metadata": {},
   "outputs": [
    {
     "ename": "AttributeError",
     "evalue": "'csr_matrix' object has no attribute 'view'",
     "output_type": "error",
     "traceback": [
      "\u001b[0;31m---------------------------------------------------------------------------\u001b[0m",
      "\u001b[0;31mAttributeError\u001b[0m                            Traceback (most recent call last)",
      "Cell \u001b[0;32mIn[58], line 1\u001b[0m\n\u001b[0;32m----> 1\u001b[0m final_emb \u001b[38;5;241m=\u001b[39m \u001b[43mfinal_emb_sparse\u001b[49m\u001b[38;5;241;43m.\u001b[39;49m\u001b[43mview\u001b[49m(\u001b[38;5;28msum\u001b[39m(num_nodes), T, dim_embedding)\n\u001b[1;32m      3\u001b[0m final_emb\u001b[38;5;241m.\u001b[39mshape\n",
      "\u001b[0;31mAttributeError\u001b[0m: 'csr_matrix' object has no attribute 'view'"
     ]
    }
   ],
   "source": [
    "final_emb = final_emb.view(sum(num_nodes), T, dim_embedding)\n",
    "\n",
    "final_emb.shape"
   ]
  },
  {
   "cell_type": "code",
   "execution_count": 50,
   "metadata": {},
   "outputs": [
    {
     "ename": "RuntimeError",
     "evalue": "[enforce fail at alloc_cpu.cpp:117] err == 0. DefaultCPUAllocator: can't allocate memory: you tried to allocate 3794935360392 bytes. Error code 12 (Cannot allocate memory)",
     "output_type": "error",
     "traceback": [
      "\u001b[0;31m---------------------------------------------------------------------------\u001b[0m",
      "\u001b[0;31mRuntimeError\u001b[0m                              Traceback (most recent call last)",
      "Cell \u001b[0;32mIn[50], line 1\u001b[0m\n\u001b[0;32m----> 1\u001b[0m embed_token \u001b[38;5;241m=\u001b[39m \u001b[43mspatio_temp_attn\u001b[49m\u001b[43m(\u001b[49m\n\u001b[1;32m      2\u001b[0m \u001b[43m    \u001b[49m\u001b[43mtokens\u001b[49m\u001b[38;5;241;43m.\u001b[39;49m\u001b[43munsqueeze\u001b[49m\u001b[43m(\u001b[49m\u001b[38;5;241;43m0\u001b[39;49m\u001b[43m)\u001b[49m\n\u001b[1;32m      3\u001b[0m \u001b[43m)\u001b[49m\u001b[38;5;241m.\u001b[39msqueeze()  \u001b[38;5;66;03m# dim = [1,T*(N+1),d] ;  N+1 because we add the virtual node\u001b[39;00m\n\u001b[1;32m      4\u001b[0m \u001b[38;5;66;03m# We remove the virtual nodes, because we don't need them for prediction\u001b[39;00m\n\u001b[1;32m      5\u001b[0m final_emb \u001b[38;5;241m=\u001b[39m embed_token[:\u001b[38;5;241m-\u001b[39mT]\n",
      "File \u001b[0;32m~/miniconda/envs/SLATE/lib/python3.9/site-packages/torch/nn/modules/module.py:1511\u001b[0m, in \u001b[0;36mModule._wrapped_call_impl\u001b[0;34m(self, *args, **kwargs)\u001b[0m\n\u001b[1;32m   1509\u001b[0m     \u001b[38;5;28;01mreturn\u001b[39;00m \u001b[38;5;28mself\u001b[39m\u001b[38;5;241m.\u001b[39m_compiled_call_impl(\u001b[38;5;241m*\u001b[39margs, \u001b[38;5;241m*\u001b[39m\u001b[38;5;241m*\u001b[39mkwargs)  \u001b[38;5;66;03m# type: ignore[misc]\u001b[39;00m\n\u001b[1;32m   1510\u001b[0m \u001b[38;5;28;01melse\u001b[39;00m:\n\u001b[0;32m-> 1511\u001b[0m     \u001b[38;5;28;01mreturn\u001b[39;00m \u001b[38;5;28;43mself\u001b[39;49m\u001b[38;5;241;43m.\u001b[39;49m\u001b[43m_call_impl\u001b[49m\u001b[43m(\u001b[49m\u001b[38;5;241;43m*\u001b[39;49m\u001b[43margs\u001b[49m\u001b[43m,\u001b[49m\u001b[43m \u001b[49m\u001b[38;5;241;43m*\u001b[39;49m\u001b[38;5;241;43m*\u001b[39;49m\u001b[43mkwargs\u001b[49m\u001b[43m)\u001b[49m\n",
      "File \u001b[0;32m~/miniconda/envs/SLATE/lib/python3.9/site-packages/torch/nn/modules/module.py:1520\u001b[0m, in \u001b[0;36mModule._call_impl\u001b[0;34m(self, *args, **kwargs)\u001b[0m\n\u001b[1;32m   1515\u001b[0m \u001b[38;5;66;03m# If we don't have any hooks, we want to skip the rest of the logic in\u001b[39;00m\n\u001b[1;32m   1516\u001b[0m \u001b[38;5;66;03m# this function, and just call forward.\u001b[39;00m\n\u001b[1;32m   1517\u001b[0m \u001b[38;5;28;01mif\u001b[39;00m \u001b[38;5;129;01mnot\u001b[39;00m (\u001b[38;5;28mself\u001b[39m\u001b[38;5;241m.\u001b[39m_backward_hooks \u001b[38;5;129;01mor\u001b[39;00m \u001b[38;5;28mself\u001b[39m\u001b[38;5;241m.\u001b[39m_backward_pre_hooks \u001b[38;5;129;01mor\u001b[39;00m \u001b[38;5;28mself\u001b[39m\u001b[38;5;241m.\u001b[39m_forward_hooks \u001b[38;5;129;01mor\u001b[39;00m \u001b[38;5;28mself\u001b[39m\u001b[38;5;241m.\u001b[39m_forward_pre_hooks\n\u001b[1;32m   1518\u001b[0m         \u001b[38;5;129;01mor\u001b[39;00m _global_backward_pre_hooks \u001b[38;5;129;01mor\u001b[39;00m _global_backward_hooks\n\u001b[1;32m   1519\u001b[0m         \u001b[38;5;129;01mor\u001b[39;00m _global_forward_hooks \u001b[38;5;129;01mor\u001b[39;00m _global_forward_pre_hooks):\n\u001b[0;32m-> 1520\u001b[0m     \u001b[38;5;28;01mreturn\u001b[39;00m \u001b[43mforward_call\u001b[49m\u001b[43m(\u001b[49m\u001b[38;5;241;43m*\u001b[39;49m\u001b[43margs\u001b[49m\u001b[43m,\u001b[49m\u001b[43m \u001b[49m\u001b[38;5;241;43m*\u001b[39;49m\u001b[38;5;241;43m*\u001b[39;49m\u001b[43mkwargs\u001b[49m\u001b[43m)\u001b[49m\n\u001b[1;32m   1522\u001b[0m \u001b[38;5;28;01mtry\u001b[39;00m:\n\u001b[1;32m   1523\u001b[0m     result \u001b[38;5;241m=\u001b[39m \u001b[38;5;28;01mNone\u001b[39;00m\n",
      "File \u001b[0;32m~/miniconda/envs/SLATE/lib/python3.9/site-packages/torch/nn/modules/transformer.py:391\u001b[0m, in \u001b[0;36mTransformerEncoder.forward\u001b[0;34m(self, src, mask, src_key_padding_mask, is_causal)\u001b[0m\n\u001b[1;32m    388\u001b[0m is_causal \u001b[38;5;241m=\u001b[39m _detect_is_causal_mask(mask, is_causal, seq_len)\n\u001b[1;32m    390\u001b[0m \u001b[38;5;28;01mfor\u001b[39;00m mod \u001b[38;5;129;01min\u001b[39;00m \u001b[38;5;28mself\u001b[39m\u001b[38;5;241m.\u001b[39mlayers:\n\u001b[0;32m--> 391\u001b[0m     output \u001b[38;5;241m=\u001b[39m \u001b[43mmod\u001b[49m\u001b[43m(\u001b[49m\u001b[43moutput\u001b[49m\u001b[43m,\u001b[49m\u001b[43m \u001b[49m\u001b[43msrc_mask\u001b[49m\u001b[38;5;241;43m=\u001b[39;49m\u001b[43mmask\u001b[49m\u001b[43m,\u001b[49m\u001b[43m \u001b[49m\u001b[43mis_causal\u001b[49m\u001b[38;5;241;43m=\u001b[39;49m\u001b[43mis_causal\u001b[49m\u001b[43m,\u001b[49m\u001b[43m \u001b[49m\u001b[43msrc_key_padding_mask\u001b[49m\u001b[38;5;241;43m=\u001b[39;49m\u001b[43msrc_key_padding_mask_for_layers\u001b[49m\u001b[43m)\u001b[49m\n\u001b[1;32m    393\u001b[0m \u001b[38;5;28;01mif\u001b[39;00m convert_to_nested:\n\u001b[1;32m    394\u001b[0m     output \u001b[38;5;241m=\u001b[39m output\u001b[38;5;241m.\u001b[39mto_padded_tensor(\u001b[38;5;241m0.\u001b[39m, src\u001b[38;5;241m.\u001b[39msize())\n",
      "File \u001b[0;32m~/miniconda/envs/SLATE/lib/python3.9/site-packages/torch/nn/modules/module.py:1511\u001b[0m, in \u001b[0;36mModule._wrapped_call_impl\u001b[0;34m(self, *args, **kwargs)\u001b[0m\n\u001b[1;32m   1509\u001b[0m     \u001b[38;5;28;01mreturn\u001b[39;00m \u001b[38;5;28mself\u001b[39m\u001b[38;5;241m.\u001b[39m_compiled_call_impl(\u001b[38;5;241m*\u001b[39margs, \u001b[38;5;241m*\u001b[39m\u001b[38;5;241m*\u001b[39mkwargs)  \u001b[38;5;66;03m# type: ignore[misc]\u001b[39;00m\n\u001b[1;32m   1510\u001b[0m \u001b[38;5;28;01melse\u001b[39;00m:\n\u001b[0;32m-> 1511\u001b[0m     \u001b[38;5;28;01mreturn\u001b[39;00m \u001b[38;5;28;43mself\u001b[39;49m\u001b[38;5;241;43m.\u001b[39;49m\u001b[43m_call_impl\u001b[49m\u001b[43m(\u001b[49m\u001b[38;5;241;43m*\u001b[39;49m\u001b[43margs\u001b[49m\u001b[43m,\u001b[49m\u001b[43m \u001b[49m\u001b[38;5;241;43m*\u001b[39;49m\u001b[38;5;241;43m*\u001b[39;49m\u001b[43mkwargs\u001b[49m\u001b[43m)\u001b[49m\n",
      "File \u001b[0;32m~/miniconda/envs/SLATE/lib/python3.9/site-packages/torch/nn/modules/module.py:1520\u001b[0m, in \u001b[0;36mModule._call_impl\u001b[0;34m(self, *args, **kwargs)\u001b[0m\n\u001b[1;32m   1515\u001b[0m \u001b[38;5;66;03m# If we don't have any hooks, we want to skip the rest of the logic in\u001b[39;00m\n\u001b[1;32m   1516\u001b[0m \u001b[38;5;66;03m# this function, and just call forward.\u001b[39;00m\n\u001b[1;32m   1517\u001b[0m \u001b[38;5;28;01mif\u001b[39;00m \u001b[38;5;129;01mnot\u001b[39;00m (\u001b[38;5;28mself\u001b[39m\u001b[38;5;241m.\u001b[39m_backward_hooks \u001b[38;5;129;01mor\u001b[39;00m \u001b[38;5;28mself\u001b[39m\u001b[38;5;241m.\u001b[39m_backward_pre_hooks \u001b[38;5;129;01mor\u001b[39;00m \u001b[38;5;28mself\u001b[39m\u001b[38;5;241m.\u001b[39m_forward_hooks \u001b[38;5;129;01mor\u001b[39;00m \u001b[38;5;28mself\u001b[39m\u001b[38;5;241m.\u001b[39m_forward_pre_hooks\n\u001b[1;32m   1518\u001b[0m         \u001b[38;5;129;01mor\u001b[39;00m _global_backward_pre_hooks \u001b[38;5;129;01mor\u001b[39;00m _global_backward_hooks\n\u001b[1;32m   1519\u001b[0m         \u001b[38;5;129;01mor\u001b[39;00m _global_forward_hooks \u001b[38;5;129;01mor\u001b[39;00m _global_forward_pre_hooks):\n\u001b[0;32m-> 1520\u001b[0m     \u001b[38;5;28;01mreturn\u001b[39;00m \u001b[43mforward_call\u001b[49m\u001b[43m(\u001b[49m\u001b[38;5;241;43m*\u001b[39;49m\u001b[43margs\u001b[49m\u001b[43m,\u001b[49m\u001b[43m \u001b[49m\u001b[38;5;241;43m*\u001b[39;49m\u001b[38;5;241;43m*\u001b[39;49m\u001b[43mkwargs\u001b[49m\u001b[43m)\u001b[49m\n\u001b[1;32m   1522\u001b[0m \u001b[38;5;28;01mtry\u001b[39;00m:\n\u001b[1;32m   1523\u001b[0m     result \u001b[38;5;241m=\u001b[39m \u001b[38;5;28;01mNone\u001b[39;00m\n",
      "File \u001b[0;32m~/miniconda/envs/SLATE/lib/python3.9/site-packages/torch/nn/modules/transformer.py:711\u001b[0m, in \u001b[0;36mTransformerEncoderLayer.forward\u001b[0;34m(self, src, src_mask, src_key_padding_mask, is_causal)\u001b[0m\n\u001b[1;32m    709\u001b[0m x \u001b[38;5;241m=\u001b[39m src\n\u001b[1;32m    710\u001b[0m \u001b[38;5;28;01mif\u001b[39;00m \u001b[38;5;28mself\u001b[39m\u001b[38;5;241m.\u001b[39mnorm_first:\n\u001b[0;32m--> 711\u001b[0m     x \u001b[38;5;241m=\u001b[39m x \u001b[38;5;241m+\u001b[39m \u001b[38;5;28;43mself\u001b[39;49m\u001b[38;5;241;43m.\u001b[39;49m\u001b[43m_sa_block\u001b[49m\u001b[43m(\u001b[49m\u001b[38;5;28;43mself\u001b[39;49m\u001b[38;5;241;43m.\u001b[39;49m\u001b[43mnorm1\u001b[49m\u001b[43m(\u001b[49m\u001b[43mx\u001b[49m\u001b[43m)\u001b[49m\u001b[43m,\u001b[49m\u001b[43m \u001b[49m\u001b[43msrc_mask\u001b[49m\u001b[43m,\u001b[49m\u001b[43m \u001b[49m\u001b[43msrc_key_padding_mask\u001b[49m\u001b[43m,\u001b[49m\u001b[43m \u001b[49m\u001b[43mis_causal\u001b[49m\u001b[38;5;241;43m=\u001b[39;49m\u001b[43mis_causal\u001b[49m\u001b[43m)\u001b[49m\n\u001b[1;32m    712\u001b[0m     x \u001b[38;5;241m=\u001b[39m x \u001b[38;5;241m+\u001b[39m \u001b[38;5;28mself\u001b[39m\u001b[38;5;241m.\u001b[39m_ff_block(\u001b[38;5;28mself\u001b[39m\u001b[38;5;241m.\u001b[39mnorm2(x))\n\u001b[1;32m    713\u001b[0m \u001b[38;5;28;01melse\u001b[39;00m:\n",
      "File \u001b[0;32m~/miniconda/envs/SLATE/lib/python3.9/site-packages/torch/nn/modules/transformer.py:722\u001b[0m, in \u001b[0;36mTransformerEncoderLayer._sa_block\u001b[0;34m(self, x, attn_mask, key_padding_mask, is_causal)\u001b[0m\n\u001b[1;32m    720\u001b[0m \u001b[38;5;28;01mdef\u001b[39;00m \u001b[38;5;21m_sa_block\u001b[39m(\u001b[38;5;28mself\u001b[39m, x: Tensor,\n\u001b[1;32m    721\u001b[0m               attn_mask: Optional[Tensor], key_padding_mask: Optional[Tensor], is_causal: \u001b[38;5;28mbool\u001b[39m \u001b[38;5;241m=\u001b[39m \u001b[38;5;28;01mFalse\u001b[39;00m) \u001b[38;5;241m-\u001b[39m\u001b[38;5;241m>\u001b[39m Tensor:\n\u001b[0;32m--> 722\u001b[0m     x \u001b[38;5;241m=\u001b[39m \u001b[38;5;28;43mself\u001b[39;49m\u001b[38;5;241;43m.\u001b[39;49m\u001b[43mself_attn\u001b[49m\u001b[43m(\u001b[49m\u001b[43mx\u001b[49m\u001b[43m,\u001b[49m\u001b[43m \u001b[49m\u001b[43mx\u001b[49m\u001b[43m,\u001b[49m\u001b[43m \u001b[49m\u001b[43mx\u001b[49m\u001b[43m,\u001b[49m\n\u001b[1;32m    723\u001b[0m \u001b[43m                       \u001b[49m\u001b[43mattn_mask\u001b[49m\u001b[38;5;241;43m=\u001b[39;49m\u001b[43mattn_mask\u001b[49m\u001b[43m,\u001b[49m\n\u001b[1;32m    724\u001b[0m \u001b[43m                       \u001b[49m\u001b[43mkey_padding_mask\u001b[49m\u001b[38;5;241;43m=\u001b[39;49m\u001b[43mkey_padding_mask\u001b[49m\u001b[43m,\u001b[49m\n\u001b[1;32m    725\u001b[0m \u001b[43m                       \u001b[49m\u001b[43mneed_weights\u001b[49m\u001b[38;5;241;43m=\u001b[39;49m\u001b[38;5;28;43;01mFalse\u001b[39;49;00m\u001b[43m,\u001b[49m\u001b[43m \u001b[49m\u001b[43mis_causal\u001b[49m\u001b[38;5;241;43m=\u001b[39;49m\u001b[43mis_causal\u001b[49m\u001b[43m)\u001b[49m[\u001b[38;5;241m0\u001b[39m]\n\u001b[1;32m    726\u001b[0m     \u001b[38;5;28;01mreturn\u001b[39;00m \u001b[38;5;28mself\u001b[39m\u001b[38;5;241m.\u001b[39mdropout1(x)\n",
      "File \u001b[0;32m~/miniconda/envs/SLATE/lib/python3.9/site-packages/torch/nn/modules/module.py:1511\u001b[0m, in \u001b[0;36mModule._wrapped_call_impl\u001b[0;34m(self, *args, **kwargs)\u001b[0m\n\u001b[1;32m   1509\u001b[0m     \u001b[38;5;28;01mreturn\u001b[39;00m \u001b[38;5;28mself\u001b[39m\u001b[38;5;241m.\u001b[39m_compiled_call_impl(\u001b[38;5;241m*\u001b[39margs, \u001b[38;5;241m*\u001b[39m\u001b[38;5;241m*\u001b[39mkwargs)  \u001b[38;5;66;03m# type: ignore[misc]\u001b[39;00m\n\u001b[1;32m   1510\u001b[0m \u001b[38;5;28;01melse\u001b[39;00m:\n\u001b[0;32m-> 1511\u001b[0m     \u001b[38;5;28;01mreturn\u001b[39;00m \u001b[38;5;28;43mself\u001b[39;49m\u001b[38;5;241;43m.\u001b[39;49m\u001b[43m_call_impl\u001b[49m\u001b[43m(\u001b[49m\u001b[38;5;241;43m*\u001b[39;49m\u001b[43margs\u001b[49m\u001b[43m,\u001b[49m\u001b[43m \u001b[49m\u001b[38;5;241;43m*\u001b[39;49m\u001b[38;5;241;43m*\u001b[39;49m\u001b[43mkwargs\u001b[49m\u001b[43m)\u001b[49m\n",
      "File \u001b[0;32m~/miniconda/envs/SLATE/lib/python3.9/site-packages/torch/nn/modules/module.py:1520\u001b[0m, in \u001b[0;36mModule._call_impl\u001b[0;34m(self, *args, **kwargs)\u001b[0m\n\u001b[1;32m   1515\u001b[0m \u001b[38;5;66;03m# If we don't have any hooks, we want to skip the rest of the logic in\u001b[39;00m\n\u001b[1;32m   1516\u001b[0m \u001b[38;5;66;03m# this function, and just call forward.\u001b[39;00m\n\u001b[1;32m   1517\u001b[0m \u001b[38;5;28;01mif\u001b[39;00m \u001b[38;5;129;01mnot\u001b[39;00m (\u001b[38;5;28mself\u001b[39m\u001b[38;5;241m.\u001b[39m_backward_hooks \u001b[38;5;129;01mor\u001b[39;00m \u001b[38;5;28mself\u001b[39m\u001b[38;5;241m.\u001b[39m_backward_pre_hooks \u001b[38;5;129;01mor\u001b[39;00m \u001b[38;5;28mself\u001b[39m\u001b[38;5;241m.\u001b[39m_forward_hooks \u001b[38;5;129;01mor\u001b[39;00m \u001b[38;5;28mself\u001b[39m\u001b[38;5;241m.\u001b[39m_forward_pre_hooks\n\u001b[1;32m   1518\u001b[0m         \u001b[38;5;129;01mor\u001b[39;00m _global_backward_pre_hooks \u001b[38;5;129;01mor\u001b[39;00m _global_backward_hooks\n\u001b[1;32m   1519\u001b[0m         \u001b[38;5;129;01mor\u001b[39;00m _global_forward_hooks \u001b[38;5;129;01mor\u001b[39;00m _global_forward_pre_hooks):\n\u001b[0;32m-> 1520\u001b[0m     \u001b[38;5;28;01mreturn\u001b[39;00m \u001b[43mforward_call\u001b[49m\u001b[43m(\u001b[49m\u001b[38;5;241;43m*\u001b[39;49m\u001b[43margs\u001b[49m\u001b[43m,\u001b[49m\u001b[43m \u001b[49m\u001b[38;5;241;43m*\u001b[39;49m\u001b[38;5;241;43m*\u001b[39;49m\u001b[43mkwargs\u001b[49m\u001b[43m)\u001b[49m\n\u001b[1;32m   1522\u001b[0m \u001b[38;5;28;01mtry\u001b[39;00m:\n\u001b[1;32m   1523\u001b[0m     result \u001b[38;5;241m=\u001b[39m \u001b[38;5;28;01mNone\u001b[39;00m\n",
      "File \u001b[0;32m~/miniconda/envs/SLATE/lib/python3.9/site-packages/torch/nn/modules/activation.py:1241\u001b[0m, in \u001b[0;36mMultiheadAttention.forward\u001b[0;34m(self, query, key, value, key_padding_mask, need_weights, attn_mask, average_attn_weights, is_causal)\u001b[0m\n\u001b[1;32m   1227\u001b[0m     attn_output, attn_output_weights \u001b[38;5;241m=\u001b[39m F\u001b[38;5;241m.\u001b[39mmulti_head_attention_forward(\n\u001b[1;32m   1228\u001b[0m         query, key, value, \u001b[38;5;28mself\u001b[39m\u001b[38;5;241m.\u001b[39membed_dim, \u001b[38;5;28mself\u001b[39m\u001b[38;5;241m.\u001b[39mnum_heads,\n\u001b[1;32m   1229\u001b[0m         \u001b[38;5;28mself\u001b[39m\u001b[38;5;241m.\u001b[39min_proj_weight, \u001b[38;5;28mself\u001b[39m\u001b[38;5;241m.\u001b[39min_proj_bias,\n\u001b[0;32m   (...)\u001b[0m\n\u001b[1;32m   1238\u001b[0m         average_attn_weights\u001b[38;5;241m=\u001b[39maverage_attn_weights,\n\u001b[1;32m   1239\u001b[0m         is_causal\u001b[38;5;241m=\u001b[39mis_causal)\n\u001b[1;32m   1240\u001b[0m \u001b[38;5;28;01melse\u001b[39;00m:\n\u001b[0;32m-> 1241\u001b[0m     attn_output, attn_output_weights \u001b[38;5;241m=\u001b[39m \u001b[43mF\u001b[49m\u001b[38;5;241;43m.\u001b[39;49m\u001b[43mmulti_head_attention_forward\u001b[49m\u001b[43m(\u001b[49m\n\u001b[1;32m   1242\u001b[0m \u001b[43m        \u001b[49m\u001b[43mquery\u001b[49m\u001b[43m,\u001b[49m\u001b[43m \u001b[49m\u001b[43mkey\u001b[49m\u001b[43m,\u001b[49m\u001b[43m \u001b[49m\u001b[43mvalue\u001b[49m\u001b[43m,\u001b[49m\u001b[43m \u001b[49m\u001b[38;5;28;43mself\u001b[39;49m\u001b[38;5;241;43m.\u001b[39;49m\u001b[43membed_dim\u001b[49m\u001b[43m,\u001b[49m\u001b[43m \u001b[49m\u001b[38;5;28;43mself\u001b[39;49m\u001b[38;5;241;43m.\u001b[39;49m\u001b[43mnum_heads\u001b[49m\u001b[43m,\u001b[49m\n\u001b[1;32m   1243\u001b[0m \u001b[43m        \u001b[49m\u001b[38;5;28;43mself\u001b[39;49m\u001b[38;5;241;43m.\u001b[39;49m\u001b[43min_proj_weight\u001b[49m\u001b[43m,\u001b[49m\u001b[43m \u001b[49m\u001b[38;5;28;43mself\u001b[39;49m\u001b[38;5;241;43m.\u001b[39;49m\u001b[43min_proj_bias\u001b[49m\u001b[43m,\u001b[49m\n\u001b[1;32m   1244\u001b[0m \u001b[43m        \u001b[49m\u001b[38;5;28;43mself\u001b[39;49m\u001b[38;5;241;43m.\u001b[39;49m\u001b[43mbias_k\u001b[49m\u001b[43m,\u001b[49m\u001b[43m \u001b[49m\u001b[38;5;28;43mself\u001b[39;49m\u001b[38;5;241;43m.\u001b[39;49m\u001b[43mbias_v\u001b[49m\u001b[43m,\u001b[49m\u001b[43m \u001b[49m\u001b[38;5;28;43mself\u001b[39;49m\u001b[38;5;241;43m.\u001b[39;49m\u001b[43madd_zero_attn\u001b[49m\u001b[43m,\u001b[49m\n\u001b[1;32m   1245\u001b[0m \u001b[43m        \u001b[49m\u001b[38;5;28;43mself\u001b[39;49m\u001b[38;5;241;43m.\u001b[39;49m\u001b[43mdropout\u001b[49m\u001b[43m,\u001b[49m\u001b[43m \u001b[49m\u001b[38;5;28;43mself\u001b[39;49m\u001b[38;5;241;43m.\u001b[39;49m\u001b[43mout_proj\u001b[49m\u001b[38;5;241;43m.\u001b[39;49m\u001b[43mweight\u001b[49m\u001b[43m,\u001b[49m\u001b[43m \u001b[49m\u001b[38;5;28;43mself\u001b[39;49m\u001b[38;5;241;43m.\u001b[39;49m\u001b[43mout_proj\u001b[49m\u001b[38;5;241;43m.\u001b[39;49m\u001b[43mbias\u001b[49m\u001b[43m,\u001b[49m\n\u001b[1;32m   1246\u001b[0m \u001b[43m        \u001b[49m\u001b[43mtraining\u001b[49m\u001b[38;5;241;43m=\u001b[39;49m\u001b[38;5;28;43mself\u001b[39;49m\u001b[38;5;241;43m.\u001b[39;49m\u001b[43mtraining\u001b[49m\u001b[43m,\u001b[49m\n\u001b[1;32m   1247\u001b[0m \u001b[43m        \u001b[49m\u001b[43mkey_padding_mask\u001b[49m\u001b[38;5;241;43m=\u001b[39;49m\u001b[43mkey_padding_mask\u001b[49m\u001b[43m,\u001b[49m\n\u001b[1;32m   1248\u001b[0m \u001b[43m        \u001b[49m\u001b[43mneed_weights\u001b[49m\u001b[38;5;241;43m=\u001b[39;49m\u001b[43mneed_weights\u001b[49m\u001b[43m,\u001b[49m\n\u001b[1;32m   1249\u001b[0m \u001b[43m        \u001b[49m\u001b[43mattn_mask\u001b[49m\u001b[38;5;241;43m=\u001b[39;49m\u001b[43mattn_mask\u001b[49m\u001b[43m,\u001b[49m\n\u001b[1;32m   1250\u001b[0m \u001b[43m        \u001b[49m\u001b[43maverage_attn_weights\u001b[49m\u001b[38;5;241;43m=\u001b[39;49m\u001b[43maverage_attn_weights\u001b[49m\u001b[43m,\u001b[49m\n\u001b[1;32m   1251\u001b[0m \u001b[43m        \u001b[49m\u001b[43mis_causal\u001b[49m\u001b[38;5;241;43m=\u001b[39;49m\u001b[43mis_causal\u001b[49m\u001b[43m)\u001b[49m\n\u001b[1;32m   1252\u001b[0m \u001b[38;5;28;01mif\u001b[39;00m \u001b[38;5;28mself\u001b[39m\u001b[38;5;241m.\u001b[39mbatch_first \u001b[38;5;129;01mand\u001b[39;00m is_batched:\n\u001b[1;32m   1253\u001b[0m     \u001b[38;5;28;01mreturn\u001b[39;00m attn_output\u001b[38;5;241m.\u001b[39mtranspose(\u001b[38;5;241m1\u001b[39m, \u001b[38;5;241m0\u001b[39m), attn_output_weights\n",
      "File \u001b[0;32m~/miniconda/envs/SLATE/lib/python3.9/site-packages/torch/nn/functional.py:5476\u001b[0m, in \u001b[0;36mmulti_head_attention_forward\u001b[0;34m(query, key, value, embed_dim_to_check, num_heads, in_proj_weight, in_proj_bias, bias_k, bias_v, add_zero_attn, dropout_p, out_proj_weight, out_proj_bias, training, key_padding_mask, need_weights, attn_mask, use_separate_proj_weight, q_proj_weight, k_proj_weight, v_proj_weight, static_k, static_v, average_attn_weights, is_causal)\u001b[0m\n\u001b[1;32m   5473\u001b[0m k \u001b[38;5;241m=\u001b[39m k\u001b[38;5;241m.\u001b[39mview(bsz, num_heads, src_len, head_dim)\n\u001b[1;32m   5474\u001b[0m v \u001b[38;5;241m=\u001b[39m v\u001b[38;5;241m.\u001b[39mview(bsz, num_heads, src_len, head_dim)\n\u001b[0;32m-> 5476\u001b[0m attn_output \u001b[38;5;241m=\u001b[39m \u001b[43mscaled_dot_product_attention\u001b[49m\u001b[43m(\u001b[49m\u001b[43mq\u001b[49m\u001b[43m,\u001b[49m\u001b[43m \u001b[49m\u001b[43mk\u001b[49m\u001b[43m,\u001b[49m\u001b[43m \u001b[49m\u001b[43mv\u001b[49m\u001b[43m,\u001b[49m\u001b[43m \u001b[49m\u001b[43mattn_mask\u001b[49m\u001b[43m,\u001b[49m\u001b[43m \u001b[49m\u001b[43mdropout_p\u001b[49m\u001b[43m,\u001b[49m\u001b[43m \u001b[49m\u001b[43mis_causal\u001b[49m\u001b[43m)\u001b[49m\n\u001b[1;32m   5477\u001b[0m attn_output \u001b[38;5;241m=\u001b[39m attn_output\u001b[38;5;241m.\u001b[39mpermute(\u001b[38;5;241m2\u001b[39m, \u001b[38;5;241m0\u001b[39m, \u001b[38;5;241m1\u001b[39m, \u001b[38;5;241m3\u001b[39m)\u001b[38;5;241m.\u001b[39mcontiguous()\u001b[38;5;241m.\u001b[39mview(bsz \u001b[38;5;241m*\u001b[39m tgt_len, embed_dim)\n\u001b[1;32m   5479\u001b[0m attn_output \u001b[38;5;241m=\u001b[39m linear(attn_output, out_proj_weight, out_proj_bias)\n",
      "\u001b[0;31mRuntimeError\u001b[0m: [enforce fail at alloc_cpu.cpp:117] err == 0. DefaultCPUAllocator: can't allocate memory: you tried to allocate 3794935360392 bytes. Error code 12 (Cannot allocate memory)"
     ]
    }
   ],
   "source": [
    "embed_token = spatio_temp_attn(\n",
    "    tokens.unsqueeze(0)\n",
    ").squeeze()  # dim = [1,T*(N+1),d] ;  N+1 because we add the virtual node\n",
    "# We remove the virtual nodes, because we don't need them for prediction\n",
    "final_emb = embed_token[:-T]\n",
    "\n",
    "print(final_emb.shape)\n",
    "\n",
    "final_emb = final_emb.view(sum(num_nodes), T, dim_embedding)\n",
    "\n",
    "final_emb.shape"
   ]
  },
  {
   "cell_type": "code",
   "execution_count": null,
   "metadata": {},
   "outputs": [],
   "source": []
  },
  {
   "cell_type": "code",
   "execution_count": 140,
   "metadata": {},
   "outputs": [],
   "source": [
    "from matplotlib.colors import LinearSegmentedColormap\n",
    "import matplotlib.pyplot as plt\n",
    "\n",
    "def plot_supragraph_laplacian(transform_sup_G, vec_propre, layout_transform_sup_G):\n",
    "    cmap = LinearSegmentedColormap.from_list(\n",
    "        \"custom_cmap\", [\"purple\", \"white\", \"green\"], N=256\n",
    "    )\n",
    "    fig, ax = plt.subplots(figsize=(8, 8))  # Create a figure and an axes\n",
    "    nx.draw(\n",
    "        transform_sup_G,\n",
    "        pos=layout_transform_sup_G,\n",
    "        node_color=vec_propre,\n",
    "        cmap=cmap,\n",
    "        vmin=-1,\n",
    "        vmax=1,\n",
    "        edgecolors=\"black\",\n",
    "        with_labels=True,\n",
    "        ax=ax,\n",
    "        node_size=800,\n",
    "    )\n",
    "\n",
    "    # Create a ScalarMappable object\n",
    "    sm = plt.cm.ScalarMappable(cmap=cmap, norm=plt.Normalize(vmin=-1, vmax=1))\n",
    "    sm.set_array([])\n",
    "    # Add the colorbar to the figure\n",
    "    fig.colorbar(sm, ax=ax, orientation=\"vertical\")  # Use the axes for the colorbar"
   ]
  },
  {
   "cell_type": "code",
   "execution_count": 141,
   "metadata": {},
   "outputs": [],
   "source": [
    "sup_lap = nx.laplacian_matrix(sup_G).toarray().astype(np.float32)\n",
    "eig_vals, eig_vecs = eigsh(\n",
    "    sup_lap,\n",
    "    k=69,\n",
    "    which=\"SA\",\n",
    "    return_eigenvectors=True,\n",
    ")"
   ]
  },
  {
   "cell_type": "code",
   "execution_count": 142,
   "metadata": {},
   "outputs": [
    {
     "data": {
      "image/png": "[encoded data removed]",
      "text/plain": [
       "<Figure size 800x800 with 2 Axes>"
      ]
     },
     "metadata": {},
     "output_type": "display_data"
    }
   ],
   "source": [
    "plot_supragraph_laplacian(sup_G, eig_vecs[:, 7], new_fixed_layout)"
   ]
  },
  {
   "cell_type": "code",
   "execution_count": 138,
   "metadata": {},
   "outputs": [
    {
     "data": {
      "text/plain": [
       "Embedding(11, 4)"
      ]
     },
     "execution_count": 138,
     "metadata": {},
     "output_type": "execute_result"
    }
   ],
   "source": [
    "embed_nodes"
   ]
  },
  {
   "cell_type": "code",
   "execution_count": 139,
   "metadata": {},
   "outputs": [
    {
     "name": "stdout",
     "output_type": "stream",
     "text": [
      "tensor([[-2.8521, -3.1006, -0.9208,  0.1165],\n",
      "        [ 0.3264, -1.0064, -0.7992,  1.5853],\n",
      "        [ 0.4747, -0.1130,  0.8327,  0.0511],\n",
      "        [-0.4387, -0.0971,  0.5172, -0.1833],\n",
      "        [ 0.0805, -0.4460, -1.4635,  0.8469],\n",
      "        [-0.3432,  0.5831, -0.2559,  1.0079],\n",
      "        [-0.2780,  0.5307,  0.2171, -1.8879],\n",
      "        [-0.8377,  0.4668,  1.0725,  1.3164],\n",
      "        [-0.8603,  0.9802,  0.5691, -1.0083],\n",
      "        [ 2.6735,  0.2315, -1.2136,  1.4397],\n",
      "        [-0.4848,  0.2523,  0.7281, -1.3454]], grad_fn=<EmbeddingBackward0>) torch.Size([11, 4])\n",
      "torch.Size([10, 4])\n",
      "tokens.shape: torch.Size([30, 4])\n"
     ]
    },
    {
     "data": {
      "text/plain": [
       "torch.Size([33, 4])"
      ]
     },
     "execution_count": 139,
     "metadata": {},
     "output_type": "execute_result"
    }
   ],
   "source": [
    "node_embedding = embed_nodes(torch.arange(N1+1))\n",
    "print(node_embedding,node_embedding.shape)\n",
    "print(node_embedding[:-1, :].shape)\n",
    "# tokens = torch.concat([],dim=0)\n",
    "\n",
    "tokens = node_embedding[:-1, :].repeat(\n",
    "    T, 1\n",
    ")  # We consider same node in different snapshots as different nodes\n",
    "print('tokens.shape:',tokens.shape)\n",
    "vn_emb = node_embedding[-1].repeat(T, 1)\n",
    "# cat the tokens of the nodes and the num_graphs virtual nodes\n",
    "tokens = torch.cat(\n",
    "    (tokens, vn_emb), dim=0\n",
    ")  # Add the virtual nodes at the end of the tokens\n",
    "\n",
    "tokens.shape"
   ]
  },
  {
   "cell_type": "code",
   "execution_count": 19,
   "metadata": {},
   "outputs": [
    {
     "data": {
      "text/plain": [
       "(6, 7, 7)"
      ]
     },
     "execution_count": 19,
     "metadata": {},
     "output_type": "execute_result"
    }
   ],
   "source": [
    "graphs[0].num_nodes = len(G1.nodes)\n",
    "graphs[1].num_nodes = len(G2.nodes)\n",
    "graphs[2].num_nodes = len(G3.nodes)\n",
    "graphs[0].num_nodes,graphs[1].num_nodes,graphs[2].num_nodes"
   ]
  },
  {
   "cell_type": "code",
   "execution_count": 20,
   "metadata": {},
   "outputs": [
    {
     "name": "stdout",
     "output_type": "stream",
     "text": [
      "Edge Index: tensor([[ 0,  0,  1,  1,  2,  2,  2,  3,  4,  5,  6,  6,  6,  6,  6,  6,  0,  1,\n",
      "          2,  3,  4,  5,  7,  7,  8,  9,  9,  9, 10, 11, 12, 13, 14, 14, 14, 14,\n",
      "         14, 14, 14,  7,  8,  9, 10, 11, 12, 13, 15, 15, 16, 17, 17, 17, 18, 19,\n",
      "         20, 21, 22, 22, 22, 22, 22, 22, 22],\n",
      "        [ 1,  2,  0,  2,  0,  1,  3,  2,  5,  4,  0,  1,  2,  3,  4,  5,  6,  7,\n",
      "          8,  9, 10, 11,  8,  9,  7,  7, 10, 13,  9, 12, 11,  9,  7,  8,  9, 10,\n",
      "         11, 12, 13, 14, 15, 16, 17, 18, 19, 20, 19, 20, 17, 16, 18, 21, 17, 15,\n",
      "         15, 17, 15, 16, 17, 18, 19, 20, 21]])\n",
      "Edge Index Shape: torch.Size([2, 63])\n",
      "Total Nodes: 23\n",
      "Isolated Nodes: tensor([], dtype=torch.int64)\n",
      "Virtual Nodes: [6, 14, 22]\n"
     ]
    }
   ],
   "source": [
    "import numpy as np\n",
    "\n",
    "# SLATE SETTINGS\n",
    "add_time_connection = (\n",
    "    True  # Add temporal connection between identical nodes in different snapshots\n",
    ")\n",
    "remove_isolated = True  # Remove isolated nodes in the supra graph\n",
    "add_vn = True  # Add a virtual node connected to all nodes in the snapshot\n",
    "num_nodes = 6  # This is the initial number of nodes in the first snapshot\n",
    "# Function to convert a list of DiscreteGraph objects into a connected supra graph\n",
    "# Same function used in dgt.lib.supra\n",
    "\n",
    "num_graphs = len(graphs)\n",
    "edge_index = []\n",
    "edge_weight = []\n",
    "l_id_vn = []\n",
    "# Supra graph creation\n",
    "\n",
    "# Initialize an offset variable for node IDs\n",
    "current_offset = 0\n",
    "\n",
    "for i in range(num_graphs):\n",
    "    # Get the current graph's edge_index and edge_weight\n",
    "    ei = graphs[i].edge_index + current_offset  # Adjust for current offset\n",
    "    ew = graphs[i].edge_weight\n",
    "\n",
    "    # Number of nodes in the current snapshot\n",
    "    current_num_nodes = graphs[i].num_nodes\n",
    "\n",
    "    if add_vn:\n",
    "        # Assign an ID to the virtual node\n",
    "        id_vn = current_offset + current_num_nodes  # Virtual node ID for this snapshot\n",
    "        l_id_vn.append(id_vn)  # Keep track of virtual node IDs\n",
    "        nodes_snapshot = torch.unique(ei.view(-1))  # Get the connected nodes in the snapshot\n",
    "\n",
    "        # Add connections between the virtual node and the nodes (deg > 0) in the snapshot\n",
    "        # We do not connect the virtual node to isolated nodes\n",
    "        vn_connections = torch.cat(\n",
    "            (\n",
    "                torch.tensor([id_vn] * len(nodes_snapshot)).view(1, -1),\n",
    "                nodes_snapshot.view(1, -1),\n",
    "            ),\n",
    "            dim=0,\n",
    "        )\n",
    "        ei = torch.cat((ei, vn_connections), dim=1)\n",
    "        ew = torch.cat((ew, torch.ones(len(nodes_snapshot))))\n",
    "\n",
    "    if add_time_connection:\n",
    "        # Add temporal connections between identical nodes in different snapshots\n",
    "        if i < num_graphs - 1:\n",
    "            ei_i = graphs[i].edge_index\n",
    "            ei_next = graphs[i + 1].edge_index\n",
    "            nodes_snapshot = torch.unique(ei_i.view(-1))\n",
    "            nodes_snapshot_next = torch.unique(ei_next.view(-1))\n",
    "\n",
    "            # Intersection\n",
    "            common_nodes = torch.LongTensor(\n",
    "                np.intersect1d(nodes_snapshot, nodes_snapshot_next)\n",
    "            )\n",
    "            # Add temporal connections\n",
    "            src = common_nodes + current_offset  # Temporal connection from current snapshot\n",
    "            dst = common_nodes + current_offset + current_num_nodes  # Temporal connection to next snapshot\n",
    "            time_co = torch.vstack((src, dst))\n",
    "            ei = torch.cat((ei, time_co), dim=1)\n",
    "            ew = torch.cat((ew, torch.ones(len(common_nodes))))\n",
    "\n",
    "    # Add the edges from this snapshot to the overall edge list\n",
    "    edge_index.append(ei)\n",
    "    edge_weight.append(ew)\n",
    "\n",
    "    # Update the offset for the next snapshot (current offset + number of nodes in this snapshot + 1 for virtual node if added)\n",
    "    current_offset += current_num_nodes + (1 if add_vn else 0)\n",
    "\n",
    "# Concatenate all edge indices and weights for the final supra graph\n",
    "edge_index = torch.cat(edge_index, dim=1)\n",
    "edge_weight = torch.cat(edge_weight)\n",
    "\n",
    "print(\"Edge Index:\", edge_index)\n",
    "print(\"Edge Index Shape:\", edge_index.shape)\n",
    "\n",
    "# Now we have to create a mask to remove the isolated nodes\n",
    "total_nodes = current_offset  # Total nodes will be the current_offset after the last snapshot\n",
    "\n",
    "print(\"Total Nodes:\", total_nodes)\n",
    "\n",
    "mask = torch.zeros(total_nodes)\n",
    "mask[torch.unique(edge_index)] = 1\n",
    "# Indices of isolated nodes\n",
    "isolated_nodes = torch.where(mask == 0)[0]\n",
    "print(\"Isolated Nodes:\", isolated_nodes)\n",
    "print(\"Virtual Nodes:\", l_id_vn)\n",
    "\n",
    "# Make the graph undirected\n",
    "edge_index, edge_weight = to_undirected(edge_index, edge_weight)\n",
    "edge_weight = torch.ones(edge_index.size(1))\n",
    "# We return the edge_index, edge_weight, and the mask list of isolated nodes\n"
   ]
  },
  {
   "cell_type": "code",
   "execution_count": null,
   "metadata": {},
   "outputs": [
    {
     "name": "stdout",
     "output_type": "stream",
     "text": [
      "nodes_snapshot tensor([0, 1, 2, 3, 4, 5, 6, 8, 9])\n",
      "nodes_snapshot_next tensor([0, 1, 2, 3, 4, 5, 6, 7, 8, 9])\n",
      "nodes_snapshot tensor([0, 1, 2, 3, 4, 5, 6, 7, 8, 9])\n",
      "nodes_snapshot_next tensor([0, 1, 2, 4, 5, 7, 8, 9])\n",
      "tensor([[ 0,  0,  0,  1,  1,  2,  2,  2,  3,  4,  5,  5,  6,  6,  8,  9,  9,  9,\n",
      "         30, 30, 30, 30, 30, 30, 30, 30, 30,  0,  1,  2,  3,  4,  5,  6,  8,  9,\n",
      "         10, 10, 10, 10, 10, 10, 11, 11, 11, 11, 11, 11, 12, 12, 12, 13, 13, 13,\n",
      "         14, 14, 15, 15, 15, 15, 16, 16, 17, 17, 17, 18, 18, 18, 18, 18, 19, 19,\n",
      "         31, 31, 31, 31, 31, 31, 31, 31, 31, 31, 10, 11, 12, 14, 15, 17, 18, 19,\n",
      "         20, 20, 21, 22, 24, 24, 25, 25, 27, 27, 28, 28, 28, 29, 32, 32, 32, 32,\n",
      "         32, 32, 32, 32],\n",
      "        [ 1,  5,  8,  0,  6,  3,  4,  9,  2,  2,  0,  9,  1,  9,  0,  2,  5,  6,\n",
      "          0,  1,  2,  3,  4,  5,  6,  8,  9, 10, 11, 12, 13, 14, 15, 16, 18, 19,\n",
      "         11, 14, 15, 16, 18, 19, 10, 12, 13, 17, 18, 19, 11, 13, 15, 11, 12, 15,\n",
      "         10, 18, 10, 12, 13, 17, 10, 18, 11, 15, 18, 10, 11, 14, 16, 17, 10, 11,\n",
      "         10, 11, 12, 13, 14, 15, 16, 17, 18, 19, 20, 21, 22, 24, 25, 27, 28, 29,\n",
      "         25, 29, 25, 28, 27, 28, 20, 21, 24, 28, 22, 24, 27, 20, 20, 21, 22, 24,\n",
      "         25, 27, 28, 29]]) torch.Size([2, 112])\n",
      "33\n",
      "Isolated Nodes tensor([ 7, 23, 26])\n",
      "Virtual nodes [30, 31, 32]\n"
     ]
    }
   ],
   "source": [
    "# SLATE SETTINGS\n",
    "add_time_connection = (\n",
    "    True  # Add temporal connection between identical nodes in different snapshots\n",
    ")\n",
    "remove_isolated = True  # Remove isolated nodes in the supra graph\n",
    "add_vn = True  # Add a virtual node connected to all nodes in the snapshot\n",
    "num_nodes = 10\n",
    "# Function to convert a list of DiscreteGraph objects into a connected supra graph\n",
    "# Same function used in dgt.lib.supra\n",
    "\n",
    "\n",
    "num_graphs = len(graphs)\n",
    "edge_index = []\n",
    "edge_weight = []\n",
    "l_id_vn = []\n",
    "# Supra graph creation\n",
    "\n",
    "for i in range(num_graphs):\n",
    "    ei = (\n",
    "        graphs[i].edge_index + i * num_nodes\n",
    "    )  # IMPORTANT: We considere nodes in different snapshots as different nodes\n",
    "    ew = graphs[i].edge_weight\n",
    "\n",
    "    if add_vn:\n",
    "        id_vn = num_nodes * num_graphs + i  # Assign an id to the virtual node\n",
    "        l_id_vn.append(id_vn)  # Necessary to identify the virtual node\n",
    "        nodes_snapshot = torch.unique(\n",
    "            ei.view(-1)\n",
    "        )  # Get the connected nodes in the snapshot\n",
    "        # Add connections between the virtual node and the nodes (deg > 0) in the snapshot\n",
    "        # We do not connect the virtual node to isolated nodes\n",
    "        vn_connections = torch.cat(\n",
    "            (\n",
    "                torch.tensor([id_vn] * len(nodes_snapshot)).view(1, -1),\n",
    "                nodes_snapshot.view(1, -1),\n",
    "            ),\n",
    "            dim=0,\n",
    "        )\n",
    "        ei = torch.cat((ei, vn_connections), dim=1)\n",
    "        ew = torch.cat((ew, torch.ones(len(nodes_snapshot))))\n",
    "\n",
    "    if add_time_connection:\n",
    "        # Add temporal connections between identical nodes in different snapshots\n",
    "        if i < num_graphs - 1:\n",
    "            ei_i = graphs[i].edge_index\n",
    "            ei_next = graphs[i + 1].edge_index\n",
    "            nodes_snapshot = torch.unique(ei_i.view(-1))\n",
    "            nodes_snapshot_next = torch.unique(ei_next.view(-1))\n",
    "\n",
    "            print('nodes_snapshot',nodes_snapshot)\n",
    "            print('nodes_snapshot_next',nodes_snapshot_next)\n",
    "            # Intersection\n",
    "            common_nodes = torch.LongTensor(\n",
    "                np.intersect1d(nodes_snapshot, nodes_snapshot_next)\n",
    "            )\n",
    "            # Add temporal connections\n",
    "            src = common_nodes + i * num_nodes\n",
    "            dst = common_nodes + (i + 1) * num_nodes\n",
    "            time_co = torch.vstack((src, dst))\n",
    "            ei = torch.cat((ei, time_co), dim=1)\n",
    "            ew = torch.cat((ew, torch.ones(len(common_nodes))))\n",
    "\n",
    "    edge_index.append(ei)\n",
    "    edge_weight.append(ew)\n",
    "edge_index = torch.cat(edge_index, dim=1)\n",
    "edge_weight = torch.cat(edge_weight)\n",
    "\n",
    "print(edge_index,edge_index.shape)\n",
    "\n",
    "# Now we have to create a mask to remove the isolated nodes\n",
    "total_nodes = num_nodes * num_graphs + num_graphs if add_vn else num_nodes * num_graphs\n",
    "\n",
    "print(total_nodes)\n",
    "\n",
    "mask = torch.zeros(total_nodes)\n",
    "mask[torch.unique(edge_index)] = 1\n",
    "# Indices of isolated nodes\n",
    "isolated_nodes = torch.where(mask == 0)[0]\n",
    "print(\"Isolated Nodes\", isolated_nodes)\n",
    "print(\"Virtual nodes\", l_id_vn)\n",
    "\n",
    "# Make the graph undirected\n",
    "edge_index, edge_weight = to_undirected(edge_index, edge_weight)\n",
    "edge_weight = torch.ones(edge_index.size(1))\n",
    "# We return the edge_index, edge_weight, and the mask list of isolated nodes\n"
   ]
  },
  {
   "cell_type": "code",
   "execution_count": 25,
   "metadata": {},
   "outputs": [
    {
     "name": "stdout",
     "output_type": "stream",
     "text": [
      "nodes_snapshot tensor([0, 1, 2, 3, 4, 5])\n",
      "nodes_snapshot_next tensor([0, 1, 2, 3, 4, 5, 6])\n",
      "nodes_snapshot tensor([0, 1, 2, 3, 4, 5, 6])\n",
      "nodes_snapshot_next tensor([0, 1, 2, 3, 4, 5, 6])\n",
      "tensor([[ 0,  0,  1,  1,  2,  2,  2,  3,  4,  5, 18, 18, 18, 18, 18, 18,  0,  1,\n",
      "          2,  3,  4,  5,  6,  6,  7,  8,  8,  8,  9, 10, 11, 12, 19, 19, 19, 19,\n",
      "         19, 19, 19,  6,  7,  8,  9, 10, 11, 12, 12, 12, 13, 14, 14, 14, 15, 16,\n",
      "         17, 18, 20, 20, 20, 20, 20, 20, 20],\n",
      "        [ 1,  2,  0,  2,  0,  1,  3,  2,  5,  4,  0,  1,  2,  3,  4,  5,  6,  7,\n",
      "          8,  9, 10, 11,  7,  8,  6,  6,  9, 12,  8, 11, 10,  8,  6,  7,  8,  9,\n",
      "         10, 11, 12, 12, 13, 14, 15, 16, 17, 18, 16, 17, 14, 13, 15, 18, 14, 12,\n",
      "         12, 14, 12, 13, 14, 15, 16, 17, 18]]) torch.Size([2, 63])\n",
      "21\n",
      "Isolated Nodes tensor([], dtype=torch.int64)\n",
      "Virtual nodes [18, 19, 20]\n"
     ]
    }
   ],
   "source": [
    "# SLATE SETTINGS\n",
    "add_time_connection = (\n",
    "    True  # Add temporal connection between identical nodes in different snapshots\n",
    ")\n",
    "remove_isolated = True  # Remove isolated nodes in the supra graph\n",
    "add_vn = True  # Add a virtual node connected to all nodes in the snapshot\n",
    "num_nodes = 6\n",
    "# Function to convert a list of DiscreteGraph objects into a connected supra graph\n",
    "# Same function used in dgt.lib.supra\n",
    "\n",
    "\n",
    "num_graphs = len(graphs)\n",
    "edge_index = []\n",
    "edge_weight = []\n",
    "l_id_vn = []\n",
    "# Supra graph creation\n",
    "\n",
    "for i in range(num_graphs):\n",
    "    ei = (\n",
    "        graphs[i].edge_index + i * num_nodes\n",
    "    )  # IMPORTANT: We considere nodes in different snapshots as different nodes\n",
    "    ew = graphs[i].edge_weight\n",
    "\n",
    "    if add_vn:\n",
    "        id_vn = num_nodes * num_graphs + i  # Assign an id to the virtual node\n",
    "        l_id_vn.append(id_vn)  # Necessary to identify the virtual node\n",
    "        nodes_snapshot = torch.unique(\n",
    "            ei.view(-1)\n",
    "        )  # Get the connected nodes in the snapshot\n",
    "        # Add connections between the virtual node and the nodes (deg > 0) in the snapshot\n",
    "        # We do not connect the virtual node to isolated nodes\n",
    "        vn_connections = torch.cat(\n",
    "            (\n",
    "                torch.tensor([id_vn] * len(nodes_snapshot)).view(1, -1),\n",
    "                nodes_snapshot.view(1, -1),\n",
    "            ),\n",
    "            dim=0,\n",
    "        )\n",
    "        ei = torch.cat((ei, vn_connections), dim=1)\n",
    "        ew = torch.cat((ew, torch.ones(len(nodes_snapshot))))\n",
    "\n",
    "    if add_time_connection:\n",
    "        # Add temporal connections between identical nodes in different snapshots\n",
    "        if i < num_graphs - 1:\n",
    "            ei_i = graphs[i].edge_index\n",
    "            ei_next = graphs[i + 1].edge_index\n",
    "            nodes_snapshot = torch.unique(ei_i.view(-1))\n",
    "            nodes_snapshot_next = torch.unique(ei_next.view(-1))\n",
    "\n",
    "            print('nodes_snapshot',nodes_snapshot)\n",
    "            print('nodes_snapshot_next',nodes_snapshot_next)\n",
    "            # Intersection\n",
    "            common_nodes = torch.LongTensor(\n",
    "                np.intersect1d(nodes_snapshot, nodes_snapshot_next)\n",
    "            )\n",
    "            # Add temporal connections\n",
    "            src = common_nodes + i * num_nodes\n",
    "            dst = common_nodes + (i + 1) * num_nodes\n",
    "            time_co = torch.vstack((src, dst))\n",
    "            ei = torch.cat((ei, time_co), dim=1)\n",
    "            ew = torch.cat((ew, torch.ones(len(common_nodes))))\n",
    "\n",
    "    edge_index.append(ei)\n",
    "    edge_weight.append(ew)\n",
    "edge_index = torch.cat(edge_index, dim=1)\n",
    "edge_weight = torch.cat(edge_weight)\n",
    "\n",
    "print(edge_index,edge_index.shape)\n",
    "\n",
    "# Now we have to create a mask to remove the isolated nodes\n",
    "total_nodes = num_nodes * num_graphs + num_graphs if add_vn else num_nodes * num_graphs\n",
    "\n",
    "print(total_nodes)\n",
    "\n",
    "mask = torch.zeros(total_nodes)\n",
    "mask[torch.unique(edge_index)] = 1\n",
    "# Indices of isolated nodes\n",
    "isolated_nodes = torch.where(mask == 0)[0]\n",
    "print(\"Isolated Nodes\", isolated_nodes)\n",
    "print(\"Virtual nodes\", l_id_vn)\n",
    "\n",
    "# Make the graph undirected\n",
    "edge_index, edge_weight = to_undirected(edge_index, edge_weight)\n",
    "edge_weight = torch.ones(edge_index.size(1))\n",
    "# We return the edge_index, edge_weight, and the mask list of isolated nodes\n"
   ]
  },
  {
   "cell_type": "code",
   "execution_count": 26,
   "metadata": {},
   "outputs": [],
   "source": [
    "import numpy as np\n",
    "sup_lap = nx.laplacian_matrix(sup_G).toarray().astype(np.float32)\n",
    "eig_vals, eig_vecs = eigsh(\n",
    "    sup_lap,\n",
    "    k=69,\n",
    "    which=\"SA\",\n",
    "    return_eigenvectors=True,\n",
    ")"
   ]
  },
  {
   "cell_type": "code",
   "execution_count": 27,
   "metadata": {},
   "outputs": [
    {
     "data": {
      "text/plain": [
       "torch.Size([96])"
      ]
     },
     "execution_count": 27,
     "metadata": {},
     "output_type": "execute_result"
    }
   ],
   "source": [
    "edge_weight.shape"
   ]
  },
  {
   "cell_type": "code",
   "execution_count": 28,
   "metadata": {},
   "outputs": [
    {
     "name": "stdout",
     "output_type": "stream",
     "text": [
      "num_nodes_supra: 21\n"
     ]
    }
   ],
   "source": [
    "new_edge_index = reindex_edge_index(\n",
    "    edge_index\n",
    ")  # Reindex the edge index to remove isolated nodes, Necessary to compute eigenvalues\n",
    "num_nodes_supra = len(torch.unique(new_edge_index[0]))\n",
    "len(torch.unique(new_edge_index)) == total_nodes - len(isolated_nodes)\n",
    "\n",
    "print('num_nodes_supra:',num_nodes_supra)\n",
    "\n",
    "pe = supralaplacianPE(\n",
    "    edge_index=new_edge_index, \n",
    "    edge_weight=edge_weight, \n",
    "    num_nodes=num_nodes_supra, \n",
    ")\n",
    "# Add the positional encoding to the isolated nodes (0)\n",
    "all_pe = torch.zeros((total_nodes, k))\n",
    "all_pe[mask == 1] = pe"
   ]
  },
  {
   "cell_type": "code",
   "execution_count": 24,
   "metadata": {},
   "outputs": [
    {
     "data": {
      "text/plain": [
       "(torch.Size([72, 4]), torch.Size([23, 6]))"
      ]
     },
     "execution_count": 24,
     "metadata": {},
     "output_type": "execute_result"
    }
   ],
   "source": [
    "tokens.shape,all_pe.shape"
   ]
  },
  {
   "cell_type": "code",
   "execution_count": 33,
   "metadata": {},
   "outputs": [
    {
     "ename": "RuntimeError",
     "evalue": "Sizes of tensors must match except in dimension 1. Expected size 33 but got size 23 for tensor number 1 in the list.",
     "output_type": "error",
     "traceback": [
      "\u001b[0;31m---------------------------------------------------------------------------\u001b[0m",
      "\u001b[0;31mRuntimeError\u001b[0m                              Traceback (most recent call last)",
      "Cell \u001b[0;32mIn[33], line 2\u001b[0m\n\u001b[1;32m      1\u001b[0m \u001b[38;5;66;03m# Add the positional encoding to the tokens\u001b[39;00m\n\u001b[0;32m----> 2\u001b[0m tokens \u001b[38;5;241m=\u001b[39m \u001b[43mtorch\u001b[49m\u001b[38;5;241;43m.\u001b[39;49m\u001b[43mcat\u001b[49m\u001b[43m(\u001b[49m\u001b[43m(\u001b[49m\u001b[43mtokens\u001b[49m\u001b[43m,\u001b[49m\u001b[43m \u001b[49m\u001b[43mall_pe\u001b[49m\u001b[43m)\u001b[49m\u001b[43m,\u001b[49m\u001b[43m \u001b[49m\u001b[43mdim\u001b[49m\u001b[38;5;241;43m=\u001b[39;49m\u001b[38;5;241;43m1\u001b[39;49m\u001b[43m)\u001b[49m\n",
      "\u001b[0;31mRuntimeError\u001b[0m: Sizes of tensors must match except in dimension 1. Expected size 33 but got size 23 for tensor number 1 in the list."
     ]
    }
   ],
   "source": [
    "# Add the positional encoding to the tokens\n",
    "tokens = torch.cat((tokens, all_pe), dim=1)\n"
   ]
  },
  {
   "cell_type": "code",
   "execution_count": 61,
   "metadata": {},
   "outputs": [
    {
     "data": {
      "text/plain": [
       "torch.Size([33, 10])"
      ]
     },
     "execution_count": 61,
     "metadata": {},
     "output_type": "execute_result"
    }
   ],
   "source": [
    "tokens.shape"
   ]
  },
  {
   "cell_type": "code",
   "execution_count": 62,
   "metadata": {},
   "outputs": [],
   "source": [
    "lin_transform = nn.Linear(dim_embedding + k, dim_embedding)\n",
    "tokens = lin_transform(tokens)"
   ]
  },
  {
   "cell_type": "code",
   "execution_count": 63,
   "metadata": {},
   "outputs": [],
   "source": [
    "norm = nn.LayerNorm(dim_embedding)\n",
    "encoder_layer = nn.TransformerEncoderLayer(\n",
    "    d_model=dim_embedding,\n",
    "    nhead=2,\n",
    "    dim_feedforward=24,\n",
    "    batch_first=True,\n",
    "    norm_first=True,\n",
    ")\n",
    "\n",
    "spatio_temp_attn = nn.TransformerEncoder(encoder_layer, num_layers=1, norm=norm)"
   ]
  },
  {
   "cell_type": "code",
   "execution_count": 64,
   "metadata": {},
   "outputs": [
    {
     "data": {
      "text/plain": [
       "torch.Size([10, 3, 4])"
      ]
     },
     "execution_count": 64,
     "metadata": {},
     "output_type": "execute_result"
    }
   ],
   "source": [
    "embed_token = spatio_temp_attn(\n",
    "    tokens.unsqueeze(0)\n",
    ").squeeze()  # dim = [1,T*(N+1),d] ;  N+1 because we add the virtual node\n",
    "# We remove the virtual nodes, because we don't need them for prediction\n",
    "final_emb = embed_token[:-T]\n",
    "final_emb = final_emb.view(N, T, dim_embedding)\n",
    "final_emb.shape"
   ]
  },
  {
   "cell_type": "code",
   "execution_count": 65,
   "metadata": {},
   "outputs": [
    {
     "data": {
      "text/plain": [
       "tensor([[[-1.1948, -0.1342, -0.2497,  1.5786],\n",
       "         [-0.6057, -0.5137, -0.6113,  1.7307],\n",
       "         [-0.8278,  0.4826, -1.0567,  1.4018]],\n",
       "\n",
       "        [[-0.8277,  0.1453, -0.8959,  1.5783],\n",
       "         [-0.6207,  0.1637, -1.0912,  1.5482],\n",
       "         [-0.1724, -0.5088, -0.9783,  1.6596]],\n",
       "\n",
       "        [[-1.1014, -0.5485,  0.0751,  1.5749],\n",
       "         [-0.4920,  0.2480, -1.2320,  1.4760],\n",
       "         [-1.0678,  0.7813, -0.9076,  1.1940]],\n",
       "\n",
       "        [[-1.6730,  0.2553,  0.9647,  0.4530],\n",
       "         [-0.9688,  0.1681, -0.7642,  1.5649],\n",
       "         [-0.5725, -0.5022, -0.6548,  1.7295]],\n",
       "\n",
       "        [[-1.2759,  0.3792, -0.5072,  1.4039],\n",
       "         [-0.2420, -0.0772, -1.2340,  1.5533],\n",
       "         [-0.6626,  0.1944, -1.0724,  1.5405]],\n",
       "\n",
       "        [[-1.0218, -0.2676, -0.3685,  1.6578],\n",
       "         [-0.7421, -0.2271, -0.7254,  1.6945],\n",
       "         [-1.1775, -0.4657,  0.0983,  1.5449]],\n",
       "\n",
       "        [[-0.7363,  0.4800, -1.1356,  1.3920],\n",
       "         [-1.5180,  1.0290, -0.2639,  0.7530],\n",
       "         [-1.2139, -0.3800,  0.0515,  1.5425]],\n",
       "\n",
       "        [[-0.7872, -0.5105, -0.4184,  1.7160],\n",
       "         [-1.3306,  0.3351, -0.4028,  1.3982],\n",
       "         [-0.5435,  0.0298, -1.0795,  1.5932]],\n",
       "\n",
       "        [[-0.9648, -0.2398, -0.4669,  1.6714],\n",
       "         [-1.0725,  0.1678, -0.6459,  1.5506],\n",
       "         [-0.9921, -0.2744, -0.4008,  1.6673]],\n",
       "\n",
       "        [[-0.6344,  0.4004, -1.1887,  1.4227],\n",
       "         [-1.0473, -0.3260, -0.2760,  1.6494],\n",
       "         [-1.6935,  0.9002,  0.3382,  0.4551]]], grad_fn=<ViewBackward0>)"
      ]
     },
     "execution_count": 65,
     "metadata": {},
     "output_type": "execute_result"
    }
   ],
   "source": [
    "final_emb"
   ]
  },
  {
   "cell_type": "code",
   "execution_count": 66,
   "metadata": {},
   "outputs": [
    {
     "data": {
      "text/plain": [
       "NodeView((0, 1, 5, 8, 6, 2, 3, 4, 9))"
      ]
     },
     "execution_count": 66,
     "metadata": {},
     "output_type": "execute_result"
    }
   ],
   "source": [
    "G1.nodes"
   ]
  },
  {
   "cell_type": "code",
   "execution_count": 67,
   "metadata": {},
   "outputs": [
    {
     "data": {
      "text/plain": [
       "EdgeView([(0, 1), (0, 5), (0, 8), (1, 6), (5, 9), (6, 9), (2, 3), (2, 4), (2, 9)])"
      ]
     },
     "execution_count": 67,
     "metadata": {},
     "output_type": "execute_result"
    }
   ],
   "source": [
    "G1.edges"
   ]
  },
  {
   "cell_type": "code",
   "execution_count": null,
   "metadata": {},
   "outputs": [],
   "source": []
  }
 ],
 "metadata": {
  "kernelspec": {
   "display_name": "SLATE",
   "language": "python",
   "name": "python3"
  },
  "language_info": {
   "codemirror_mode": {
    "name": "ipython",
    "version": 3
   },
   "file_extension": ".py",
   "mimetype": "text/x-python",
   "name": "python",
   "nbconvert_exporter": "python",
   "pygments_lexer": "ipython3",
   "version": "3.9.21"
  }
 },
 "nbformat": 4,
 "nbformat_minor": 2
}
